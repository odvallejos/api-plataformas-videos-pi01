{
 "cells": [
  {
   "cell_type": "code",
   "execution_count": 2,
   "metadata": {},
   "outputs": [],
   "source": [
    "import pandas as pd"
   ]
  },
  {
   "cell_type": "code",
   "execution_count": 2,
   "metadata": {},
   "outputs": [],
   "source": [
    "df_amazon = pd.read_csv('./Datasets/amazon_prime_titles.csv')"
   ]
  },
  {
   "cell_type": "code",
   "execution_count": 4,
   "metadata": {},
   "outputs": [
    {
     "name": "stdout",
     "output_type": "stream",
     "text": [
      "<class 'pandas.core.frame.DataFrame'>\n",
      "RangeIndex: 9668 entries, 0 to 9667\n",
      "Data columns (total 12 columns):\n",
      " #   Column        Non-Null Count  Dtype \n",
      "---  ------        --------------  ----- \n",
      " 0   show_id       9668 non-null   object\n",
      " 1   type          9668 non-null   object\n",
      " 2   title         9668 non-null   object\n",
      " 3   director      7586 non-null   object\n",
      " 4   cast          8435 non-null   object\n",
      " 5   country       672 non-null    object\n",
      " 6   date_added    155 non-null    object\n",
      " 7   release_year  9668 non-null   int64 \n",
      " 8   rating        9331 non-null   object\n",
      " 9   duration      9668 non-null   object\n",
      " 10  listed_in     9668 non-null   object\n",
      " 11  description   9668 non-null   object\n",
      "dtypes: int64(1), object(11)\n",
      "memory usage: 906.5+ KB\n"
     ]
    }
   ],
   "source": [
    "df_amazon.info()"
   ]
  },
  {
   "cell_type": "code",
   "execution_count": 6,
   "metadata": {},
   "outputs": [
    {
     "data": {
      "text/html": [
       "<div>\n",
       "<style scoped>\n",
       "    .dataframe tbody tr th:only-of-type {\n",
       "        vertical-align: middle;\n",
       "    }\n",
       "\n",
       "    .dataframe tbody tr th {\n",
       "        vertical-align: top;\n",
       "    }\n",
       "\n",
       "    .dataframe thead th {\n",
       "        text-align: right;\n",
       "    }\n",
       "</style>\n",
       "<table border=\"1\" class=\"dataframe\">\n",
       "  <thead>\n",
       "    <tr style=\"text-align: right;\">\n",
       "      <th></th>\n",
       "      <th>show_id</th>\n",
       "      <th>type</th>\n",
       "      <th>title</th>\n",
       "      <th>director</th>\n",
       "      <th>cast</th>\n",
       "      <th>country</th>\n",
       "      <th>date_added</th>\n",
       "      <th>release_year</th>\n",
       "      <th>rating</th>\n",
       "      <th>duration</th>\n",
       "      <th>listed_in</th>\n",
       "      <th>description</th>\n",
       "    </tr>\n",
       "  </thead>\n",
       "  <tbody>\n",
       "    <tr>\n",
       "      <th>0</th>\n",
       "      <td>s1</td>\n",
       "      <td>Movie</td>\n",
       "      <td>The Grand Seduction</td>\n",
       "      <td>Don McKellar</td>\n",
       "      <td>Brendan Gleeson, Taylor Kitsch, Gordon Pinsent</td>\n",
       "      <td>Canada</td>\n",
       "      <td>March 30, 2021</td>\n",
       "      <td>2014</td>\n",
       "      <td>NaN</td>\n",
       "      <td>113 min</td>\n",
       "      <td>Comedy, Drama</td>\n",
       "      <td>A small fishing village must procure a local d...</td>\n",
       "    </tr>\n",
       "    <tr>\n",
       "      <th>1</th>\n",
       "      <td>s2</td>\n",
       "      <td>Movie</td>\n",
       "      <td>Take Care Good Night</td>\n",
       "      <td>Girish Joshi</td>\n",
       "      <td>Mahesh Manjrekar, Abhay Mahajan, Sachin Khedekar</td>\n",
       "      <td>India</td>\n",
       "      <td>March 30, 2021</td>\n",
       "      <td>2018</td>\n",
       "      <td>13+</td>\n",
       "      <td>110 min</td>\n",
       "      <td>Drama, International</td>\n",
       "      <td>A Metro Family decides to fight a Cyber Crimin...</td>\n",
       "    </tr>\n",
       "    <tr>\n",
       "      <th>2</th>\n",
       "      <td>s3</td>\n",
       "      <td>Movie</td>\n",
       "      <td>Secrets of Deception</td>\n",
       "      <td>Josh Webber</td>\n",
       "      <td>Tom Sizemore, Lorenzo Lamas, Robert LaSardo, R...</td>\n",
       "      <td>United States</td>\n",
       "      <td>March 30, 2021</td>\n",
       "      <td>2017</td>\n",
       "      <td>NaN</td>\n",
       "      <td>74 min</td>\n",
       "      <td>Action, Drama, Suspense</td>\n",
       "      <td>After a man discovers his wife is cheating on ...</td>\n",
       "    </tr>\n",
       "    <tr>\n",
       "      <th>3</th>\n",
       "      <td>s4</td>\n",
       "      <td>Movie</td>\n",
       "      <td>Pink: Staying True</td>\n",
       "      <td>Sonia Anderson</td>\n",
       "      <td>Interviews with: Pink, Adele, Beyoncé, Britney...</td>\n",
       "      <td>United States</td>\n",
       "      <td>March 30, 2021</td>\n",
       "      <td>2014</td>\n",
       "      <td>NaN</td>\n",
       "      <td>69 min</td>\n",
       "      <td>Documentary</td>\n",
       "      <td>Pink breaks the mold once again, bringing her ...</td>\n",
       "    </tr>\n",
       "    <tr>\n",
       "      <th>4</th>\n",
       "      <td>s5</td>\n",
       "      <td>Movie</td>\n",
       "      <td>Monster Maker</td>\n",
       "      <td>Giles Foster</td>\n",
       "      <td>Harry Dean Stanton, Kieran O'Brien, George Cos...</td>\n",
       "      <td>United Kingdom</td>\n",
       "      <td>March 30, 2021</td>\n",
       "      <td>1989</td>\n",
       "      <td>NaN</td>\n",
       "      <td>45 min</td>\n",
       "      <td>Drama, Fantasy</td>\n",
       "      <td>Teenage Matt Banting wants to work with a famo...</td>\n",
       "    </tr>\n",
       "  </tbody>\n",
       "</table>\n",
       "</div>"
      ],
      "text/plain": [
       "  show_id   type                 title        director  \\\n",
       "0      s1  Movie   The Grand Seduction    Don McKellar   \n",
       "1      s2  Movie  Take Care Good Night    Girish Joshi   \n",
       "2      s3  Movie  Secrets of Deception     Josh Webber   \n",
       "3      s4  Movie    Pink: Staying True  Sonia Anderson   \n",
       "4      s5  Movie         Monster Maker    Giles Foster   \n",
       "\n",
       "                                                cast         country  \\\n",
       "0     Brendan Gleeson, Taylor Kitsch, Gordon Pinsent          Canada   \n",
       "1   Mahesh Manjrekar, Abhay Mahajan, Sachin Khedekar           India   \n",
       "2  Tom Sizemore, Lorenzo Lamas, Robert LaSardo, R...   United States   \n",
       "3  Interviews with: Pink, Adele, Beyoncé, Britney...   United States   \n",
       "4  Harry Dean Stanton, Kieran O'Brien, George Cos...  United Kingdom   \n",
       "\n",
       "       date_added  release_year rating duration                listed_in  \\\n",
       "0  March 30, 2021          2014    NaN  113 min            Comedy, Drama   \n",
       "1  March 30, 2021          2018    13+  110 min     Drama, International   \n",
       "2  March 30, 2021          2017    NaN   74 min  Action, Drama, Suspense   \n",
       "3  March 30, 2021          2014    NaN   69 min              Documentary   \n",
       "4  March 30, 2021          1989    NaN   45 min           Drama, Fantasy   \n",
       "\n",
       "                                         description  \n",
       "0  A small fishing village must procure a local d...  \n",
       "1  A Metro Family decides to fight a Cyber Crimin...  \n",
       "2  After a man discovers his wife is cheating on ...  \n",
       "3  Pink breaks the mold once again, bringing her ...  \n",
       "4  Teenage Matt Banting wants to work with a famo...  "
      ]
     },
     "execution_count": 6,
     "metadata": {},
     "output_type": "execute_result"
    }
   ],
   "source": [
    "df_amazon.head()"
   ]
  },
  {
   "cell_type": "code",
   "execution_count": 8,
   "metadata": {},
   "outputs": [
    {
     "data": {
      "text/plain": [
       "type\n",
       "Movie      7814\n",
       "TV Show    1854\n",
       "Name: type, dtype: int64"
      ]
     },
     "execution_count": 8,
     "metadata": {},
     "output_type": "execute_result"
    }
   ],
   "source": [
    "df_amazon.groupby(['type'])['type'].count()"
   ]
  },
  {
   "cell_type": "code",
   "execution_count": 3,
   "metadata": {},
   "outputs": [],
   "source": [
    "df_disney = pd.read_csv('./Datasets/disney_plus_titles.csv')"
   ]
  },
  {
   "cell_type": "code",
   "execution_count": 11,
   "metadata": {},
   "outputs": [
    {
     "name": "stdout",
     "output_type": "stream",
     "text": [
      "<class 'pandas.core.frame.DataFrame'>\n",
      "RangeIndex: 1450 entries, 0 to 1449\n",
      "Data columns (total 12 columns):\n",
      " #   Column        Non-Null Count  Dtype \n",
      "---  ------        --------------  ----- \n",
      " 0   show_id       1450 non-null   object\n",
      " 1   type          1450 non-null   object\n",
      " 2   title         1450 non-null   object\n",
      " 3   director      977 non-null    object\n",
      " 4   cast          1260 non-null   object\n",
      " 5   country       1231 non-null   object\n",
      " 6   date_added    1447 non-null   object\n",
      " 7   release_year  1450 non-null   int64 \n",
      " 8   rating        1447 non-null   object\n",
      " 9   duration      1450 non-null   object\n",
      " 10  listed_in     1450 non-null   object\n",
      " 11  description   1450 non-null   object\n",
      "dtypes: int64(1), object(11)\n",
      "memory usage: 136.1+ KB\n"
     ]
    }
   ],
   "source": [
    "df_disney.info()"
   ]
  },
  {
   "cell_type": "code",
   "execution_count": 12,
   "metadata": {},
   "outputs": [
    {
     "data": {
      "text/html": [
       "<div>\n",
       "<style scoped>\n",
       "    .dataframe tbody tr th:only-of-type {\n",
       "        vertical-align: middle;\n",
       "    }\n",
       "\n",
       "    .dataframe tbody tr th {\n",
       "        vertical-align: top;\n",
       "    }\n",
       "\n",
       "    .dataframe thead th {\n",
       "        text-align: right;\n",
       "    }\n",
       "</style>\n",
       "<table border=\"1\" class=\"dataframe\">\n",
       "  <thead>\n",
       "    <tr style=\"text-align: right;\">\n",
       "      <th></th>\n",
       "      <th>show_id</th>\n",
       "      <th>type</th>\n",
       "      <th>title</th>\n",
       "      <th>director</th>\n",
       "      <th>cast</th>\n",
       "      <th>country</th>\n",
       "      <th>date_added</th>\n",
       "      <th>release_year</th>\n",
       "      <th>rating</th>\n",
       "      <th>duration</th>\n",
       "      <th>listed_in</th>\n",
       "      <th>description</th>\n",
       "    </tr>\n",
       "  </thead>\n",
       "  <tbody>\n",
       "    <tr>\n",
       "      <th>0</th>\n",
       "      <td>s1</td>\n",
       "      <td>Movie</td>\n",
       "      <td>Duck the Halls: A Mickey Mouse Christmas Special</td>\n",
       "      <td>Alonso Ramirez Ramos, Dave Wasson</td>\n",
       "      <td>Chris Diamantopoulos, Tony Anselmo, Tress MacN...</td>\n",
       "      <td>NaN</td>\n",
       "      <td>November 26, 2021</td>\n",
       "      <td>2016</td>\n",
       "      <td>TV-G</td>\n",
       "      <td>23 min</td>\n",
       "      <td>Animation, Family</td>\n",
       "      <td>Join Mickey and the gang as they duck the halls!</td>\n",
       "    </tr>\n",
       "    <tr>\n",
       "      <th>1</th>\n",
       "      <td>s2</td>\n",
       "      <td>Movie</td>\n",
       "      <td>Ernest Saves Christmas</td>\n",
       "      <td>John Cherry</td>\n",
       "      <td>Jim Varney, Noelle Parker, Douglas Seale</td>\n",
       "      <td>NaN</td>\n",
       "      <td>November 26, 2021</td>\n",
       "      <td>1988</td>\n",
       "      <td>PG</td>\n",
       "      <td>91 min</td>\n",
       "      <td>Comedy</td>\n",
       "      <td>Santa Claus passes his magic bag to a new St. ...</td>\n",
       "    </tr>\n",
       "    <tr>\n",
       "      <th>2</th>\n",
       "      <td>s3</td>\n",
       "      <td>Movie</td>\n",
       "      <td>Ice Age: A Mammoth Christmas</td>\n",
       "      <td>Karen Disher</td>\n",
       "      <td>Raymond Albert Romano, John Leguizamo, Denis L...</td>\n",
       "      <td>United States</td>\n",
       "      <td>November 26, 2021</td>\n",
       "      <td>2011</td>\n",
       "      <td>TV-G</td>\n",
       "      <td>23 min</td>\n",
       "      <td>Animation, Comedy, Family</td>\n",
       "      <td>Sid the Sloth is on Santa's naughty list.</td>\n",
       "    </tr>\n",
       "    <tr>\n",
       "      <th>3</th>\n",
       "      <td>s4</td>\n",
       "      <td>Movie</td>\n",
       "      <td>The Queen Family Singalong</td>\n",
       "      <td>Hamish Hamilton</td>\n",
       "      <td>Darren Criss, Adam Lambert, Derek Hough, Alexa...</td>\n",
       "      <td>NaN</td>\n",
       "      <td>November 26, 2021</td>\n",
       "      <td>2021</td>\n",
       "      <td>TV-PG</td>\n",
       "      <td>41 min</td>\n",
       "      <td>Musical</td>\n",
       "      <td>This is real life, not just fantasy!</td>\n",
       "    </tr>\n",
       "    <tr>\n",
       "      <th>4</th>\n",
       "      <td>s5</td>\n",
       "      <td>TV Show</td>\n",
       "      <td>The Beatles: Get Back</td>\n",
       "      <td>NaN</td>\n",
       "      <td>John Lennon, Paul McCartney, George Harrison, ...</td>\n",
       "      <td>NaN</td>\n",
       "      <td>November 25, 2021</td>\n",
       "      <td>2021</td>\n",
       "      <td>NaN</td>\n",
       "      <td>1 Season</td>\n",
       "      <td>Docuseries, Historical, Music</td>\n",
       "      <td>A three-part documentary from Peter Jackson ca...</td>\n",
       "    </tr>\n",
       "  </tbody>\n",
       "</table>\n",
       "</div>"
      ],
      "text/plain": [
       "  show_id     type                                             title  \\\n",
       "0      s1    Movie  Duck the Halls: A Mickey Mouse Christmas Special   \n",
       "1      s2    Movie                            Ernest Saves Christmas   \n",
       "2      s3    Movie                      Ice Age: A Mammoth Christmas   \n",
       "3      s4    Movie                        The Queen Family Singalong   \n",
       "4      s5  TV Show                             The Beatles: Get Back   \n",
       "\n",
       "                            director  \\\n",
       "0  Alonso Ramirez Ramos, Dave Wasson   \n",
       "1                        John Cherry   \n",
       "2                       Karen Disher   \n",
       "3                    Hamish Hamilton   \n",
       "4                                NaN   \n",
       "\n",
       "                                                cast        country  \\\n",
       "0  Chris Diamantopoulos, Tony Anselmo, Tress MacN...            NaN   \n",
       "1           Jim Varney, Noelle Parker, Douglas Seale            NaN   \n",
       "2  Raymond Albert Romano, John Leguizamo, Denis L...  United States   \n",
       "3  Darren Criss, Adam Lambert, Derek Hough, Alexa...            NaN   \n",
       "4  John Lennon, Paul McCartney, George Harrison, ...            NaN   \n",
       "\n",
       "          date_added  release_year rating  duration  \\\n",
       "0  November 26, 2021          2016   TV-G    23 min   \n",
       "1  November 26, 2021          1988     PG    91 min   \n",
       "2  November 26, 2021          2011   TV-G    23 min   \n",
       "3  November 26, 2021          2021  TV-PG    41 min   \n",
       "4  November 25, 2021          2021    NaN  1 Season   \n",
       "\n",
       "                       listed_in  \\\n",
       "0              Animation, Family   \n",
       "1                         Comedy   \n",
       "2      Animation, Comedy, Family   \n",
       "3                        Musical   \n",
       "4  Docuseries, Historical, Music   \n",
       "\n",
       "                                         description  \n",
       "0   Join Mickey and the gang as they duck the halls!  \n",
       "1  Santa Claus passes his magic bag to a new St. ...  \n",
       "2          Sid the Sloth is on Santa's naughty list.  \n",
       "3               This is real life, not just fantasy!  \n",
       "4  A three-part documentary from Peter Jackson ca...  "
      ]
     },
     "execution_count": 12,
     "metadata": {},
     "output_type": "execute_result"
    }
   ],
   "source": [
    "df_disney.head()"
   ]
  },
  {
   "cell_type": "code",
   "execution_count": 18,
   "metadata": {},
   "outputs": [
    {
     "data": {
      "text/plain": [
       "duration\n",
       "1 Season      219\n",
       "10 Seasons      2\n",
       "16 Seasons      1\n",
       "19 Seasons      1\n",
       "2 Seasons      82\n",
       "3 Seasons      45\n",
       "32 Seasons      1\n",
       "4 Seasons      24\n",
       "5 Seasons      11\n",
       "6 Seasons       3\n",
       "7 Seasons       5\n",
       "8 Seasons       2\n",
       "9 Seasons       2\n",
       "Name: duration, dtype: int64"
      ]
     },
     "execution_count": 18,
     "metadata": {},
     "output_type": "execute_result"
    }
   ],
   "source": [
    "df_disney[(df_disney.type == \"TV Show\")].groupby(['duration'])['duration'].count()"
   ]
  },
  {
   "cell_type": "code",
   "execution_count": 4,
   "metadata": {},
   "outputs": [],
   "source": [
    "df_hulu = pd.read_csv('./Datasets/hulu_titles.csv')"
   ]
  },
  {
   "cell_type": "code",
   "execution_count": 14,
   "metadata": {},
   "outputs": [
    {
     "name": "stdout",
     "output_type": "stream",
     "text": [
      "<class 'pandas.core.frame.DataFrame'>\n",
      "RangeIndex: 3073 entries, 0 to 3072\n",
      "Data columns (total 12 columns):\n",
      " #   Column        Non-Null Count  Dtype  \n",
      "---  ------        --------------  -----  \n",
      " 0   show_id       3073 non-null   object \n",
      " 1   type          3073 non-null   object \n",
      " 2   title         3073 non-null   object \n",
      " 3   director      3 non-null      object \n",
      " 4   cast          0 non-null      float64\n",
      " 5   country       1620 non-null   object \n",
      " 6   date_added    3045 non-null   object \n",
      " 7   release_year  3073 non-null   int64  \n",
      " 8   rating        2553 non-null   object \n",
      " 9   duration      2594 non-null   object \n",
      " 10  listed_in     3073 non-null   object \n",
      " 11  description   3069 non-null   object \n",
      "dtypes: float64(1), int64(1), object(10)\n",
      "memory usage: 288.2+ KB\n"
     ]
    }
   ],
   "source": [
    "df_hulu.info()"
   ]
  },
  {
   "cell_type": "code",
   "execution_count": 15,
   "metadata": {},
   "outputs": [
    {
     "data": {
      "text/html": [
       "<div>\n",
       "<style scoped>\n",
       "    .dataframe tbody tr th:only-of-type {\n",
       "        vertical-align: middle;\n",
       "    }\n",
       "\n",
       "    .dataframe tbody tr th {\n",
       "        vertical-align: top;\n",
       "    }\n",
       "\n",
       "    .dataframe thead th {\n",
       "        text-align: right;\n",
       "    }\n",
       "</style>\n",
       "<table border=\"1\" class=\"dataframe\">\n",
       "  <thead>\n",
       "    <tr style=\"text-align: right;\">\n",
       "      <th></th>\n",
       "      <th>show_id</th>\n",
       "      <th>type</th>\n",
       "      <th>title</th>\n",
       "      <th>director</th>\n",
       "      <th>cast</th>\n",
       "      <th>country</th>\n",
       "      <th>date_added</th>\n",
       "      <th>release_year</th>\n",
       "      <th>rating</th>\n",
       "      <th>duration</th>\n",
       "      <th>listed_in</th>\n",
       "      <th>description</th>\n",
       "    </tr>\n",
       "  </thead>\n",
       "  <tbody>\n",
       "    <tr>\n",
       "      <th>0</th>\n",
       "      <td>s1</td>\n",
       "      <td>Movie</td>\n",
       "      <td>Ricky Velez: Here's Everything</td>\n",
       "      <td>NaN</td>\n",
       "      <td>NaN</td>\n",
       "      <td>NaN</td>\n",
       "      <td>October 24, 2021</td>\n",
       "      <td>2021</td>\n",
       "      <td>TV-MA</td>\n",
       "      <td>NaN</td>\n",
       "      <td>Comedy, Stand Up</td>\n",
       "      <td>​Comedian Ricky Velez bares it all with his ho...</td>\n",
       "    </tr>\n",
       "    <tr>\n",
       "      <th>1</th>\n",
       "      <td>s2</td>\n",
       "      <td>Movie</td>\n",
       "      <td>Silent Night</td>\n",
       "      <td>NaN</td>\n",
       "      <td>NaN</td>\n",
       "      <td>NaN</td>\n",
       "      <td>October 23, 2021</td>\n",
       "      <td>2020</td>\n",
       "      <td>NaN</td>\n",
       "      <td>94 min</td>\n",
       "      <td>Crime, Drama, Thriller</td>\n",
       "      <td>Mark, a low end South London hitman recently r...</td>\n",
       "    </tr>\n",
       "    <tr>\n",
       "      <th>2</th>\n",
       "      <td>s3</td>\n",
       "      <td>Movie</td>\n",
       "      <td>The Marksman</td>\n",
       "      <td>NaN</td>\n",
       "      <td>NaN</td>\n",
       "      <td>NaN</td>\n",
       "      <td>October 23, 2021</td>\n",
       "      <td>2021</td>\n",
       "      <td>PG-13</td>\n",
       "      <td>108 min</td>\n",
       "      <td>Action, Thriller</td>\n",
       "      <td>A hardened Arizona rancher tries to protect an...</td>\n",
       "    </tr>\n",
       "    <tr>\n",
       "      <th>3</th>\n",
       "      <td>s4</td>\n",
       "      <td>Movie</td>\n",
       "      <td>Gaia</td>\n",
       "      <td>NaN</td>\n",
       "      <td>NaN</td>\n",
       "      <td>NaN</td>\n",
       "      <td>October 22, 2021</td>\n",
       "      <td>2021</td>\n",
       "      <td>R</td>\n",
       "      <td>97 min</td>\n",
       "      <td>Horror</td>\n",
       "      <td>A forest ranger and two survivalists with a cu...</td>\n",
       "    </tr>\n",
       "    <tr>\n",
       "      <th>4</th>\n",
       "      <td>s5</td>\n",
       "      <td>Movie</td>\n",
       "      <td>Settlers</td>\n",
       "      <td>NaN</td>\n",
       "      <td>NaN</td>\n",
       "      <td>NaN</td>\n",
       "      <td>October 22, 2021</td>\n",
       "      <td>2021</td>\n",
       "      <td>NaN</td>\n",
       "      <td>104 min</td>\n",
       "      <td>Science Fiction, Thriller</td>\n",
       "      <td>Mankind's earliest settlers on the Martian fro...</td>\n",
       "    </tr>\n",
       "  </tbody>\n",
       "</table>\n",
       "</div>"
      ],
      "text/plain": [
       "  show_id   type                           title director  cast country  \\\n",
       "0      s1  Movie  Ricky Velez: Here's Everything      NaN   NaN     NaN   \n",
       "1      s2  Movie                    Silent Night      NaN   NaN     NaN   \n",
       "2      s3  Movie                    The Marksman      NaN   NaN     NaN   \n",
       "3      s4  Movie                            Gaia      NaN   NaN     NaN   \n",
       "4      s5  Movie                        Settlers      NaN   NaN     NaN   \n",
       "\n",
       "         date_added  release_year rating duration                  listed_in  \\\n",
       "0  October 24, 2021          2021  TV-MA      NaN           Comedy, Stand Up   \n",
       "1  October 23, 2021          2020    NaN   94 min     Crime, Drama, Thriller   \n",
       "2  October 23, 2021          2021  PG-13  108 min           Action, Thriller   \n",
       "3  October 22, 2021          2021      R   97 min                     Horror   \n",
       "4  October 22, 2021          2021    NaN  104 min  Science Fiction, Thriller   \n",
       "\n",
       "                                         description  \n",
       "0  ​Comedian Ricky Velez bares it all with his ho...  \n",
       "1  Mark, a low end South London hitman recently r...  \n",
       "2  A hardened Arizona rancher tries to protect an...  \n",
       "3  A forest ranger and two survivalists with a cu...  \n",
       "4  Mankind's earliest settlers on the Martian fro...  "
      ]
     },
     "execution_count": 15,
     "metadata": {},
     "output_type": "execute_result"
    }
   ],
   "source": [
    "df_hulu.head()"
   ]
  },
  {
   "cell_type": "code",
   "execution_count": 16,
   "metadata": {},
   "outputs": [
    {
     "data": {
      "text/plain": [
       "duration\n",
       "1 Season      829\n",
       "1 min           1\n",
       "10 Seasons     10\n",
       "100 min        18\n",
       "101 min        25\n",
       "             ... \n",
       "95 min         34\n",
       "96 min         18\n",
       "97 min         31\n",
       "98 min         29\n",
       "99 min         24\n",
       "Name: duration, Length: 135, dtype: int64"
      ]
     },
     "execution_count": 16,
     "metadata": {},
     "output_type": "execute_result"
    }
   ],
   "source": [
    "df_hulu.groupby(['duration'])['duration'].count()"
   ]
  },
  {
   "cell_type": "code",
   "execution_count": 5,
   "metadata": {},
   "outputs": [],
   "source": [
    "df_netflix = pd.read_json('./Datasets/netflix_titles.json')"
   ]
  },
  {
   "cell_type": "code",
   "execution_count": 20,
   "metadata": {},
   "outputs": [
    {
     "name": "stdout",
     "output_type": "stream",
     "text": [
      "<class 'pandas.core.frame.DataFrame'>\n",
      "Int64Index: 8807 entries, 0 to 8806\n",
      "Data columns (total 12 columns):\n",
      " #   Column        Non-Null Count  Dtype \n",
      "---  ------        --------------  ----- \n",
      " 0   show_id       8807 non-null   object\n",
      " 1   type          8807 non-null   object\n",
      " 2   title         8807 non-null   object\n",
      " 3   director      6173 non-null   object\n",
      " 4   cast          7982 non-null   object\n",
      " 5   country       7976 non-null   object\n",
      " 6   date_added    8797 non-null   object\n",
      " 7   release_year  8807 non-null   int64 \n",
      " 8   rating        8803 non-null   object\n",
      " 9   duration      8804 non-null   object\n",
      " 10  listed_in     8807 non-null   object\n",
      " 11  description   8807 non-null   object\n",
      "dtypes: int64(1), object(11)\n",
      "memory usage: 894.5+ KB\n"
     ]
    }
   ],
   "source": [
    "df_netflix.info()"
   ]
  },
  {
   "cell_type": "code",
   "execution_count": 21,
   "metadata": {},
   "outputs": [
    {
     "data": {
      "text/html": [
       "<div>\n",
       "<style scoped>\n",
       "    .dataframe tbody tr th:only-of-type {\n",
       "        vertical-align: middle;\n",
       "    }\n",
       "\n",
       "    .dataframe tbody tr th {\n",
       "        vertical-align: top;\n",
       "    }\n",
       "\n",
       "    .dataframe thead th {\n",
       "        text-align: right;\n",
       "    }\n",
       "</style>\n",
       "<table border=\"1\" class=\"dataframe\">\n",
       "  <thead>\n",
       "    <tr style=\"text-align: right;\">\n",
       "      <th></th>\n",
       "      <th>show_id</th>\n",
       "      <th>type</th>\n",
       "      <th>title</th>\n",
       "      <th>director</th>\n",
       "      <th>cast</th>\n",
       "      <th>country</th>\n",
       "      <th>date_added</th>\n",
       "      <th>release_year</th>\n",
       "      <th>rating</th>\n",
       "      <th>duration</th>\n",
       "      <th>listed_in</th>\n",
       "      <th>description</th>\n",
       "    </tr>\n",
       "  </thead>\n",
       "  <tbody>\n",
       "    <tr>\n",
       "      <th>0</th>\n",
       "      <td>s1</td>\n",
       "      <td>Movie</td>\n",
       "      <td>Dick Johnson Is Dead</td>\n",
       "      <td>Kirsten Johnson</td>\n",
       "      <td>None</td>\n",
       "      <td>United States</td>\n",
       "      <td>September 25, 2021</td>\n",
       "      <td>2020</td>\n",
       "      <td>PG-13</td>\n",
       "      <td>90 min</td>\n",
       "      <td>Documentaries</td>\n",
       "      <td>As her father nears the end of his life, filmm...</td>\n",
       "    </tr>\n",
       "    <tr>\n",
       "      <th>1</th>\n",
       "      <td>s2</td>\n",
       "      <td>TV Show</td>\n",
       "      <td>Blood &amp; Water</td>\n",
       "      <td>None</td>\n",
       "      <td>Ama Qamata, Khosi Ngema, Gail Mabalane, Thaban...</td>\n",
       "      <td>South Africa</td>\n",
       "      <td>September 24, 2021</td>\n",
       "      <td>2021</td>\n",
       "      <td>TV-MA</td>\n",
       "      <td>2 Seasons</td>\n",
       "      <td>International TV Shows, TV Dramas, TV Mysteries</td>\n",
       "      <td>After crossing paths at a party, a Cape Town t...</td>\n",
       "    </tr>\n",
       "    <tr>\n",
       "      <th>2</th>\n",
       "      <td>s3</td>\n",
       "      <td>TV Show</td>\n",
       "      <td>Ganglands</td>\n",
       "      <td>Julien Leclercq</td>\n",
       "      <td>Sami Bouajila, Tracy Gotoas, Samuel Jouy, Nabi...</td>\n",
       "      <td>None</td>\n",
       "      <td>September 24, 2021</td>\n",
       "      <td>2021</td>\n",
       "      <td>TV-MA</td>\n",
       "      <td>1 Season</td>\n",
       "      <td>Crime TV Shows, International TV Shows, TV Act...</td>\n",
       "      <td>To protect his family from a powerful drug lor...</td>\n",
       "    </tr>\n",
       "    <tr>\n",
       "      <th>3</th>\n",
       "      <td>s4</td>\n",
       "      <td>TV Show</td>\n",
       "      <td>Jailbirds New Orleans</td>\n",
       "      <td>None</td>\n",
       "      <td>None</td>\n",
       "      <td>None</td>\n",
       "      <td>September 24, 2021</td>\n",
       "      <td>2021</td>\n",
       "      <td>TV-MA</td>\n",
       "      <td>1 Season</td>\n",
       "      <td>Docuseries, Reality TV</td>\n",
       "      <td>Feuds, flirtations and toilet talk go down amo...</td>\n",
       "    </tr>\n",
       "    <tr>\n",
       "      <th>4</th>\n",
       "      <td>s5</td>\n",
       "      <td>TV Show</td>\n",
       "      <td>Kota Factory</td>\n",
       "      <td>None</td>\n",
       "      <td>Mayur More, Jitendra Kumar, Ranjan Raj, Alam K...</td>\n",
       "      <td>India</td>\n",
       "      <td>September 24, 2021</td>\n",
       "      <td>2021</td>\n",
       "      <td>TV-MA</td>\n",
       "      <td>2 Seasons</td>\n",
       "      <td>International TV Shows, Romantic TV Shows, TV ...</td>\n",
       "      <td>In a city of coaching centers known to train I...</td>\n",
       "    </tr>\n",
       "  </tbody>\n",
       "</table>\n",
       "</div>"
      ],
      "text/plain": [
       "  show_id     type                  title         director  \\\n",
       "0      s1    Movie   Dick Johnson Is Dead  Kirsten Johnson   \n",
       "1      s2  TV Show          Blood & Water             None   \n",
       "2      s3  TV Show              Ganglands  Julien Leclercq   \n",
       "3      s4  TV Show  Jailbirds New Orleans             None   \n",
       "4      s5  TV Show           Kota Factory             None   \n",
       "\n",
       "                                                cast        country  \\\n",
       "0                                               None  United States   \n",
       "1  Ama Qamata, Khosi Ngema, Gail Mabalane, Thaban...   South Africa   \n",
       "2  Sami Bouajila, Tracy Gotoas, Samuel Jouy, Nabi...           None   \n",
       "3                                               None           None   \n",
       "4  Mayur More, Jitendra Kumar, Ranjan Raj, Alam K...          India   \n",
       "\n",
       "           date_added  release_year rating   duration  \\\n",
       "0  September 25, 2021          2020  PG-13     90 min   \n",
       "1  September 24, 2021          2021  TV-MA  2 Seasons   \n",
       "2  September 24, 2021          2021  TV-MA   1 Season   \n",
       "3  September 24, 2021          2021  TV-MA   1 Season   \n",
       "4  September 24, 2021          2021  TV-MA  2 Seasons   \n",
       "\n",
       "                                           listed_in  \\\n",
       "0                                      Documentaries   \n",
       "1    International TV Shows, TV Dramas, TV Mysteries   \n",
       "2  Crime TV Shows, International TV Shows, TV Act...   \n",
       "3                             Docuseries, Reality TV   \n",
       "4  International TV Shows, Romantic TV Shows, TV ...   \n",
       "\n",
       "                                         description  \n",
       "0  As her father nears the end of his life, filmm...  \n",
       "1  After crossing paths at a party, a Cape Town t...  \n",
       "2  To protect his family from a powerful drug lor...  \n",
       "3  Feuds, flirtations and toilet talk go down amo...  \n",
       "4  In a city of coaching centers known to train I...  "
      ]
     },
     "execution_count": 21,
     "metadata": {},
     "output_type": "execute_result"
    }
   ],
   "source": [
    "df_netflix.head()"
   ]
  },
  {
   "cell_type": "code",
   "execution_count": 26,
   "metadata": {},
   "outputs": [],
   "source": [
    "df_test = df_netflix.head()"
   ]
  },
  {
   "cell_type": "code",
   "execution_count": 28,
   "metadata": {},
   "outputs": [
    {
     "data": {
      "text/plain": [
       "0                                        Documentaries\n",
       "1      International TV Shows, TV Dramas, TV Mysteries\n",
       "2    Crime TV Shows, International TV Shows, TV Act...\n",
       "3                               Docuseries, Reality TV\n",
       "4    International TV Shows, Romantic TV Shows, TV ...\n",
       "Name: listed_in, dtype: object"
      ]
     },
     "execution_count": 28,
     "metadata": {},
     "output_type": "execute_result"
    }
   ],
   "source": [
    "df_test.listed_in"
   ]
  },
  {
   "cell_type": "code",
   "execution_count": 16,
   "metadata": {},
   "outputs": [],
   "source": [
    "#lista_genero = df_amazon.listed_in.apply(lambda x: x.split(','))\n",
    "#lista_genero = df_netflix.listed_in.apply(lambda x: x.split(','))\n",
    "#lista_genero = df_disney.listed_in.apply(lambda x: x.split(','))\n",
    "lista_genero = df_hulu.listed_in.apply(lambda x: x.split(','))"
   ]
  },
  {
   "cell_type": "code",
   "execution_count": 10,
   "metadata": {},
   "outputs": [],
   "source": [
    "generos = []"
   ]
  },
  {
   "cell_type": "code",
   "execution_count": 17,
   "metadata": {},
   "outputs": [],
   "source": [
    "#lista_genero = df_hulu.listed_in.apply(lambda x: x.split(','))\n",
    "#generos=[]\n",
    "for genero in lista_genero:\n",
    "    #print( genero )\n",
    "    for i in genero:\n",
    "        elemento = i.strip()\n",
    "        if elemento not in generos:\n",
    "            generos.append(elemento)"
   ]
  },
  {
   "cell_type": "code",
   "execution_count": 19,
   "metadata": {},
   "outputs": [
    {
     "data": {
      "text/plain": [
       "120"
      ]
     },
     "execution_count": 19,
     "metadata": {},
     "output_type": "execute_result"
    }
   ],
   "source": [
    "len(generos)"
   ]
  },
  {
   "cell_type": "code",
   "execution_count": 84,
   "metadata": {},
   "outputs": [
    {
     "data": {
      "text/html": [
       "<div>\n",
       "<style scoped>\n",
       "    .dataframe tbody tr th:only-of-type {\n",
       "        vertical-align: middle;\n",
       "    }\n",
       "\n",
       "    .dataframe tbody tr th {\n",
       "        vertical-align: top;\n",
       "    }\n",
       "\n",
       "    .dataframe thead th {\n",
       "        text-align: right;\n",
       "    }\n",
       "</style>\n",
       "<table border=\"1\" class=\"dataframe\">\n",
       "  <thead>\n",
       "    <tr style=\"text-align: right;\">\n",
       "      <th></th>\n",
       "      <th>show_id</th>\n",
       "      <th>type</th>\n",
       "      <th>title</th>\n",
       "      <th>director</th>\n",
       "      <th>cast</th>\n",
       "      <th>country</th>\n",
       "      <th>date_added</th>\n",
       "      <th>release_year</th>\n",
       "      <th>rating</th>\n",
       "      <th>duration</th>\n",
       "      <th>listed_in</th>\n",
       "      <th>description</th>\n",
       "    </tr>\n",
       "  </thead>\n",
       "  <tbody>\n",
       "  </tbody>\n",
       "</table>\n",
       "</div>"
      ],
      "text/plain": [
       "Empty DataFrame\n",
       "Columns: [show_id, type, title, director, cast, country, date_added, release_year, rating, duration, listed_in, description]\n",
       "Index: []"
      ]
     },
     "execution_count": 84,
     "metadata": {},
     "output_type": "execute_result"
    }
   ],
   "source": [
    "df_disney[(df_disney.duplicated())]"
   ]
  },
  {
   "cell_type": "code",
   "execution_count": 20,
   "metadata": {},
   "outputs": [],
   "source": [
    "actores = []"
   ]
  },
  {
   "cell_type": "code",
   "execution_count": 101,
   "metadata": {},
   "outputs": [
    {
     "name": "stdout",
     "output_type": "stream",
     "text": [
      "<class 'pandas.core.frame.DataFrame'>\n",
      "Int64Index: 8807 entries, 0 to 8806\n",
      "Data columns (total 12 columns):\n",
      " #   Column        Non-Null Count  Dtype \n",
      "---  ------        --------------  ----- \n",
      " 0   show_id       8807 non-null   object\n",
      " 1   type          8807 non-null   object\n",
      " 2   title         8807 non-null   object\n",
      " 3   director      6173 non-null   object\n",
      " 4   cast          7982 non-null   object\n",
      " 5   country       7976 non-null   object\n",
      " 6   date_added    8797 non-null   object\n",
      " 7   release_year  8807 non-null   int64 \n",
      " 8   rating        8803 non-null   object\n",
      " 9   duration      8804 non-null   object\n",
      " 10  listed_in     8807 non-null   object\n",
      " 11  description   8807 non-null   object\n",
      "dtypes: int64(1), object(11)\n",
      "memory usage: 894.5+ KB\n"
     ]
    }
   ],
   "source": [
    "#df_amazon.info()\n",
    "#df_disney.info()\n",
    "#df_hulu.info()\n",
    "df_netflix.info()"
   ]
  },
  {
   "cell_type": "code",
   "execution_count": 6,
   "metadata": {},
   "outputs": [],
   "source": [
    "df_amazon.fillna('', inplace=True)\n",
    "df_disney.fillna('', inplace=True)\n",
    "df_netflix.fillna('', inplace=True)\n",
    "df_hulu.fillna('', inplace=True)"
   ]
  },
  {
   "cell_type": "code",
   "execution_count": 7,
   "metadata": {},
   "outputs": [],
   "source": [
    "df_amazon['plataform'] = 'amazon'\n",
    "df_netflix['plataform'] = 'netflix'\n",
    "df_disney['plataform'] = 'disney'\n",
    "df_hulu['plataform'] = 'hulu'"
   ]
  },
  {
   "cell_type": "code",
   "execution_count": 12,
   "metadata": {},
   "outputs": [],
   "source": [
    "df_todo = df_amazon.copy()"
   ]
  },
  {
   "cell_type": "code",
   "execution_count": 13,
   "metadata": {},
   "outputs": [
    {
     "data": {
      "text/plain": [
       "(9668, 13)"
      ]
     },
     "execution_count": 13,
     "metadata": {},
     "output_type": "execute_result"
    }
   ],
   "source": [
    "df_todo.shape"
   ]
  },
  {
   "cell_type": "code",
   "execution_count": 18,
   "metadata": {},
   "outputs": [],
   "source": [
    "#df_todo = df_todo.append(df_amazon, ignore_index=True) no va porque hicimos copia de sede DF\n",
    "#df_todo = df_todo.append(df_netflix, ignore_index=True)\n",
    "#df_todo = df_todo.append(df_disney, ignore_index=True)\n",
    "df_todo = df_todo.append(df_hulu, ignore_index=True)"
   ]
  },
  {
   "cell_type": "code",
   "execution_count": 20,
   "metadata": {},
   "outputs": [
    {
     "data": {
      "text/html": [
       "<div>\n",
       "<style scoped>\n",
       "    .dataframe tbody tr th:only-of-type {\n",
       "        vertical-align: middle;\n",
       "    }\n",
       "\n",
       "    .dataframe tbody tr th {\n",
       "        vertical-align: top;\n",
       "    }\n",
       "\n",
       "    .dataframe thead th {\n",
       "        text-align: right;\n",
       "    }\n",
       "</style>\n",
       "<table border=\"1\" class=\"dataframe\">\n",
       "  <thead>\n",
       "    <tr style=\"text-align: right;\">\n",
       "      <th></th>\n",
       "      <th>show_id</th>\n",
       "      <th>type</th>\n",
       "      <th>title</th>\n",
       "      <th>director</th>\n",
       "      <th>cast</th>\n",
       "      <th>country</th>\n",
       "      <th>date_added</th>\n",
       "      <th>release_year</th>\n",
       "      <th>rating</th>\n",
       "      <th>duration</th>\n",
       "      <th>listed_in</th>\n",
       "      <th>description</th>\n",
       "      <th>plataform</th>\n",
       "    </tr>\n",
       "  </thead>\n",
       "  <tbody>\n",
       "    <tr>\n",
       "      <th>0</th>\n",
       "      <td>s1</td>\n",
       "      <td>Movie</td>\n",
       "      <td>The Grand Seduction</td>\n",
       "      <td>Don McKellar</td>\n",
       "      <td>Brendan Gleeson, Taylor Kitsch, Gordon Pinsent</td>\n",
       "      <td>Canada</td>\n",
       "      <td>March 30, 2021</td>\n",
       "      <td>2014</td>\n",
       "      <td></td>\n",
       "      <td>113 min</td>\n",
       "      <td>Comedy, Drama</td>\n",
       "      <td>A small fishing village must procure a local d...</td>\n",
       "      <td>amazon</td>\n",
       "    </tr>\n",
       "    <tr>\n",
       "      <th>1</th>\n",
       "      <td>s2</td>\n",
       "      <td>Movie</td>\n",
       "      <td>Take Care Good Night</td>\n",
       "      <td>Girish Joshi</td>\n",
       "      <td>Mahesh Manjrekar, Abhay Mahajan, Sachin Khedekar</td>\n",
       "      <td>India</td>\n",
       "      <td>March 30, 2021</td>\n",
       "      <td>2018</td>\n",
       "      <td>13+</td>\n",
       "      <td>110 min</td>\n",
       "      <td>Drama, International</td>\n",
       "      <td>A Metro Family decides to fight a Cyber Crimin...</td>\n",
       "      <td>amazon</td>\n",
       "    </tr>\n",
       "    <tr>\n",
       "      <th>2</th>\n",
       "      <td>s3</td>\n",
       "      <td>Movie</td>\n",
       "      <td>Secrets of Deception</td>\n",
       "      <td>Josh Webber</td>\n",
       "      <td>Tom Sizemore, Lorenzo Lamas, Robert LaSardo, R...</td>\n",
       "      <td>United States</td>\n",
       "      <td>March 30, 2021</td>\n",
       "      <td>2017</td>\n",
       "      <td></td>\n",
       "      <td>74 min</td>\n",
       "      <td>Action, Drama, Suspense</td>\n",
       "      <td>After a man discovers his wife is cheating on ...</td>\n",
       "      <td>amazon</td>\n",
       "    </tr>\n",
       "    <tr>\n",
       "      <th>3</th>\n",
       "      <td>s4</td>\n",
       "      <td>Movie</td>\n",
       "      <td>Pink: Staying True</td>\n",
       "      <td>Sonia Anderson</td>\n",
       "      <td>Interviews with: Pink, Adele, Beyoncé, Britney...</td>\n",
       "      <td>United States</td>\n",
       "      <td>March 30, 2021</td>\n",
       "      <td>2014</td>\n",
       "      <td></td>\n",
       "      <td>69 min</td>\n",
       "      <td>Documentary</td>\n",
       "      <td>Pink breaks the mold once again, bringing her ...</td>\n",
       "      <td>amazon</td>\n",
       "    </tr>\n",
       "    <tr>\n",
       "      <th>4</th>\n",
       "      <td>s5</td>\n",
       "      <td>Movie</td>\n",
       "      <td>Monster Maker</td>\n",
       "      <td>Giles Foster</td>\n",
       "      <td>Harry Dean Stanton, Kieran O'Brien, George Cos...</td>\n",
       "      <td>United Kingdom</td>\n",
       "      <td>March 30, 2021</td>\n",
       "      <td>1989</td>\n",
       "      <td></td>\n",
       "      <td>45 min</td>\n",
       "      <td>Drama, Fantasy</td>\n",
       "      <td>Teenage Matt Banting wants to work with a famo...</td>\n",
       "      <td>amazon</td>\n",
       "    </tr>\n",
       "  </tbody>\n",
       "</table>\n",
       "</div>"
      ],
      "text/plain": [
       "  show_id   type                 title        director  \\\n",
       "0      s1  Movie   The Grand Seduction    Don McKellar   \n",
       "1      s2  Movie  Take Care Good Night    Girish Joshi   \n",
       "2      s3  Movie  Secrets of Deception     Josh Webber   \n",
       "3      s4  Movie    Pink: Staying True  Sonia Anderson   \n",
       "4      s5  Movie         Monster Maker    Giles Foster   \n",
       "\n",
       "                                                cast         country  \\\n",
       "0     Brendan Gleeson, Taylor Kitsch, Gordon Pinsent          Canada   \n",
       "1   Mahesh Manjrekar, Abhay Mahajan, Sachin Khedekar           India   \n",
       "2  Tom Sizemore, Lorenzo Lamas, Robert LaSardo, R...   United States   \n",
       "3  Interviews with: Pink, Adele, Beyoncé, Britney...   United States   \n",
       "4  Harry Dean Stanton, Kieran O'Brien, George Cos...  United Kingdom   \n",
       "\n",
       "       date_added  release_year rating duration                listed_in  \\\n",
       "0  March 30, 2021          2014         113 min            Comedy, Drama   \n",
       "1  March 30, 2021          2018    13+  110 min     Drama, International   \n",
       "2  March 30, 2021          2017          74 min  Action, Drama, Suspense   \n",
       "3  March 30, 2021          2014          69 min              Documentary   \n",
       "4  March 30, 2021          1989          45 min           Drama, Fantasy   \n",
       "\n",
       "                                         description plataform  \n",
       "0  A small fishing village must procure a local d...    amazon  \n",
       "1  A Metro Family decides to fight a Cyber Crimin...    amazon  \n",
       "2  After a man discovers his wife is cheating on ...    amazon  \n",
       "3  Pink breaks the mold once again, bringing her ...    amazon  \n",
       "4  Teenage Matt Banting wants to work with a famo...    amazon  "
      ]
     },
     "execution_count": 20,
     "metadata": {},
     "output_type": "execute_result"
    }
   ],
   "source": [
    "df_todo.head()"
   ]
  },
  {
   "cell_type": "code",
   "execution_count": 25,
   "metadata": {},
   "outputs": [
    {
     "data": {
      "text/plain": [
       "(16481, 13)"
      ]
     },
     "execution_count": 25,
     "metadata": {},
     "output_type": "execute_result"
    }
   ],
   "source": [
    "df_todo[(df_todo.type == \"Movie\")].shape"
   ]
  },
  {
   "cell_type": "code",
   "execution_count": 26,
   "metadata": {},
   "outputs": [],
   "source": [
    "df_test = df_todo.head(20)"
   ]
  },
  {
   "cell_type": "code",
   "execution_count": 35,
   "metadata": {},
   "outputs": [
    {
     "data": {
      "text/plain": [
       "113"
      ]
     },
     "execution_count": 35,
     "metadata": {},
     "output_type": "execute_result"
    }
   ],
   "source": [
    "int(df_test.loc[0]['duration'].split(' ')[0])"
   ]
  },
  {
   "cell_type": "code",
   "execution_count": 39,
   "metadata": {},
   "outputs": [],
   "source": [
    "#agrego una columna con el valor numero de duration para obtener max y min\n",
    "#df_test['duration_val'] = df_test['duration'].apply( lambda x: 0 if x == '' else int(x.split(' ')[0]) )\n",
    "df_todo['duration_val'] = df_todo['duration'].apply( lambda x: 0 if x == '' else int(x.split(' ')[0]) )"
   ]
  },
  {
   "cell_type": "code",
   "execution_count": null,
   "metadata": {},
   "outputs": [],
   "source": [
    "#Máxima duración según tipo de film (película/serie), por plataforma y por año: \n",
    "#El request debe ser: get_max_duration(año, plataforma, [min o season])\n",
    "#get_max_duration(2018, 'hulu', 'min']) =>> \"the house that jack built\""
   ]
  },
  {
   "cell_type": "code",
   "execution_count": 269,
   "metadata": {},
   "outputs": [
    {
     "name": "stdout",
     "output_type": "stream",
     "text": [
      "Data not found\n"
     ]
    }
   ],
   "source": [
    "anio = 2018\n",
    "plataform = 'amazon'\n",
    "p_type = 'seasonn'\n",
    "\n",
    "if p_type == 'min':\n",
    "    type = 'Movie'\n",
    "elif p_type == 'season':\n",
    "    type = 'TV Show'\n",
    "else:\n",
    "    type = ''\n",
    "\n",
    "\n",
    "df_filtro = df_todo[(df_todo.release_year == anio) & (df_todo.plataform == plataform) & (df_todo.type == type)]\n",
    "if df_filtro.shape[0] > 0:\n",
    "    print(\"si\")\n",
    "    #max_duration = df_todo[(df_todo.release_year == anio) & (df_todo.plataform == plataform) & (df_todo.type == type)].duration_val.max()\n",
    "    max_duration = df_filtro.duration_val.max()\n",
    "    print(max_duration)\n",
    "    #duration_val = 151\n",
    "    title = df_todo[(df_todo.release_year == anio) & (df_todo.plataform == plataform) & (df_todo.type == type) & (df_todo.duration_val == max_duration)].title.values[0]\n",
    "    print(title)\n",
    "else:\n",
    "    print(\"Data not found\")\n",
    "#df_todo[(df_todo.release_year == anio) & (df_todo.plataform == plataform) & (df_todo.type == type) & (df_todo.duration_val == max_duration)].title.values[0]"
   ]
  },
  {
   "cell_type": "code",
   "execution_count": 26,
   "metadata": {},
   "outputs": [],
   "source": [
    "df_titles = pd.read_csv('Datasets/titles_todos.csv')"
   ]
  },
  {
   "cell_type": "code",
   "execution_count": null,
   "metadata": {},
   "outputs": [],
   "source": [
    "#Cantidad de películas y series (separado) por plataforma \n",
    "#El request debe ser: get_count_plataform(plataforma)\n",
    "#get_count_plataform('netflix')"
   ]
  },
  {
   "cell_type": "code",
   "execution_count": 27,
   "metadata": {},
   "outputs": [
    {
     "name": "stdout",
     "output_type": "stream",
     "text": [
      "Movie: 6131\n",
      "TV Show: 2676\n"
     ]
    }
   ],
   "source": [
    "plataform = 'netflix'\n",
    "#df_plataform_count = df_todo[(df_todo.plataform == plataform)].groupby(['type'])['type'].count()\n",
    "df_plataform_count = df_titles[(df_titles.plataform == plataform.lower() )].type.value_counts()\n",
    "print(f\"Movie: {df_plataform_count['Movie']}\")\n",
    "print(f\"TV Show: {df_plataform_count['TV Show']}\")"
   ]
  },
  {
   "cell_type": "code",
   "execution_count": 202,
   "metadata": {},
   "outputs": [
    {
     "data": {
      "text/plain": [
       "{'Movie': 6131, 'TV Show': 2676}"
      ]
     },
     "execution_count": 202,
     "metadata": {},
     "output_type": "execute_result"
    }
   ],
   "source": [
    "df_plataform_count.to_dict()"
   ]
  },
  {
   "cell_type": "code",
   "execution_count": null,
   "metadata": {},
   "outputs": [],
   "source": [
    "#Cantidad de veces que se repite un género y plataforma con mayor frecuencia del mismo. \n",
    "#El request debe ser: get_listedin('genero')\n",
    "#Como ejemplo de género pueden usar 'comedy', el cuál deberia devolverles un cunt de 2099 para la plataforma de amazon."
   ]
  },
  {
   "cell_type": "code",
   "execution_count": 75,
   "metadata": {},
   "outputs": [],
   "source": [
    "data = []\n",
    "df_gender_title = pd.DataFrame(data, columns=['plataform', 'title', 'gender'])"
   ]
  },
  {
   "cell_type": "code",
   "execution_count": 76,
   "metadata": {},
   "outputs": [],
   "source": [
    "for i, row in df_todo.iterrows():\n",
    "    listed_in = row['listed_in']\n",
    "    lista_genero = listed_in.split(',')\n",
    "    for genero in lista_genero:\n",
    "        #print( genero.strip())\n",
    "        df_gender_title = df_gender_title.append({\n",
    "            'plataform': row['plataform'],\n",
    "            'title': row['title'],\n",
    "            'gender': genero.strip()\n",
    "        }, ignore_index=True)\n",
    "\n"
   ]
  },
  {
   "cell_type": "code",
   "execution_count": 89,
   "metadata": {},
   "outputs": [],
   "source": [
    "#df_gender_title.to_csv('plataform_title_gender.csv')"
   ]
  },
  {
   "cell_type": "code",
   "execution_count": 152,
   "metadata": {},
   "outputs": [
    {
     "data": {
      "text/html": [
       "<div>\n",
       "<style scoped>\n",
       "    .dataframe tbody tr th:only-of-type {\n",
       "        vertical-align: middle;\n",
       "    }\n",
       "\n",
       "    .dataframe tbody tr th {\n",
       "        vertical-align: top;\n",
       "    }\n",
       "\n",
       "    .dataframe thead th {\n",
       "        text-align: right;\n",
       "    }\n",
       "</style>\n",
       "<table border=\"1\" class=\"dataframe\">\n",
       "  <thead>\n",
       "    <tr style=\"text-align: right;\">\n",
       "      <th></th>\n",
       "      <th>show_id</th>\n",
       "      <th>type</th>\n",
       "      <th>title</th>\n",
       "      <th>director</th>\n",
       "      <th>cast</th>\n",
       "      <th>country</th>\n",
       "      <th>date_added</th>\n",
       "      <th>release_year</th>\n",
       "      <th>rating</th>\n",
       "      <th>duration</th>\n",
       "      <th>listed_in</th>\n",
       "      <th>description</th>\n",
       "      <th>plataform</th>\n",
       "    </tr>\n",
       "  </thead>\n",
       "  <tbody>\n",
       "    <tr>\n",
       "      <th>1542</th>\n",
       "      <td>s1543</td>\n",
       "      <td>Movie</td>\n",
       "      <td>The House That Jack Built</td>\n",
       "      <td></td>\n",
       "      <td></td>\n",
       "      <td>Denmark, France, Sweden, Germany, Belgium, Tun...</td>\n",
       "      <td>July 2, 2020</td>\n",
       "      <td>2018</td>\n",
       "      <td>R</td>\n",
       "      <td>151 min</td>\n",
       "      <td>Crime, Drama, Horror</td>\n",
       "      <td>Jack is a serial killer who views each murder ...</td>\n",
       "      <td>hulu</td>\n",
       "    </tr>\n",
       "  </tbody>\n",
       "</table>\n",
       "</div>"
      ],
      "text/plain": [
       "     show_id   type                      title director cast  \\\n",
       "1542   s1543  Movie  The House That Jack Built                 \n",
       "\n",
       "                                                country    date_added  \\\n",
       "1542  Denmark, France, Sweden, Germany, Belgium, Tun...  July 2, 2020   \n",
       "\n",
       "      release_year rating duration             listed_in  \\\n",
       "1542          2018      R  151 min  Crime, Drama, Horror   \n",
       "\n",
       "                                            description plataform  \n",
       "1542  Jack is a serial killer who views each murder ...      hulu  "
      ]
     },
     "execution_count": 152,
     "metadata": {},
     "output_type": "execute_result"
    }
   ],
   "source": [
    "df_hulu[(df_hulu.title.str.lower() == 'the house that jack built')]"
   ]
  },
  {
   "cell_type": "code",
   "execution_count": 172,
   "metadata": {},
   "outputs": [],
   "source": [
    "#df_hulu[(df_hulu.title.str.lower() == 'the house that jack built')]\n",
    "gender = 'Horror'\n",
    "df_1 = df_gender_title[( df_gender_title['gender'].str.lower() == gender.lower() )].groupby(['plataform']).count().sort_values(by=['gender'], ascending=False)\n"
   ]
  },
  {
   "cell_type": "code",
   "execution_count": 170,
   "metadata": {},
   "outputs": [
    {
     "data": {
      "text/plain": [
       "(0, 2)"
      ]
     },
     "execution_count": 170,
     "metadata": {},
     "output_type": "execute_result"
    }
   ],
   "source": [
    "df_1.shape"
   ]
  },
  {
   "cell_type": "code",
   "execution_count": 173,
   "metadata": {},
   "outputs": [
    {
     "name": "stdout",
     "output_type": "stream",
     "text": [
      "Plataforma: amazon\n",
      "Cantidad: 875\n"
     ]
    }
   ],
   "source": [
    "if df_1.shape[0] > 0:\n",
    "    print(f\"Plataforma: {df_1.index[0]}\" );\n",
    "    print(f\"Cantidad: {df_1.values[0][0]}\" );\n",
    "else:\n",
    "    print(\"No hay películas con ese Género\")\n",
    "#df_1.index[0]\n",
    "#df_1.values[0][0]"
   ]
  },
  {
   "cell_type": "code",
   "execution_count": null,
   "metadata": {},
   "outputs": [],
   "source": [
    "df_gender_title"
   ]
  },
  {
   "cell_type": "code",
   "execution_count": 77,
   "metadata": {},
   "outputs": [
    {
     "data": {
      "text/plain": [
       "(48303, 3)"
      ]
     },
     "execution_count": 77,
     "metadata": {},
     "output_type": "execute_result"
    }
   ],
   "source": [
    "df_gender_title.shape"
   ]
  },
  {
   "cell_type": "code",
   "execution_count": 78,
   "metadata": {},
   "outputs": [],
   "source": [
    "df_gender_title.drop_duplicates(inplace=True)"
   ]
  },
  {
   "cell_type": "code",
   "execution_count": null,
   "metadata": {},
   "outputs": [],
   "source": [
    "#Actor que más se repite según plataforma y año. \n",
    "#El request debe ser: get_actor(plataforma, año)\n",
    "#get_actor('netflix',2018)  =>> netflix, 8, andrea libman"
   ]
  },
  {
   "cell_type": "code",
   "execution_count": 111,
   "metadata": {},
   "outputs": [],
   "source": [
    "data = []\n",
    "df_cast_title = pd.DataFrame(data, columns=['plataform', 'title', 'year', 'cast'])"
   ]
  },
  {
   "cell_type": "code",
   "execution_count": 112,
   "metadata": {},
   "outputs": [],
   "source": [
    "for i, row in df_todo.iterrows():\n",
    "    casts = row['cast']\n",
    "    lista_casts = casts.split(',')\n",
    "    for cast in lista_casts:\n",
    "        df_cast_title = df_cast_title.append({\n",
    "            'plataform': row['plataform'],\n",
    "            'title': row['title'],\n",
    "            'year': row['release_year'],\n",
    "            'cast': cast.strip()\n",
    "        }, ignore_index=True)"
   ]
  },
  {
   "cell_type": "code",
   "execution_count": 142,
   "metadata": {},
   "outputs": [],
   "source": [
    "df_cast_title_1 = df_cast_title[(df_cast_title.cast != '')]"
   ]
  },
  {
   "cell_type": "code",
   "execution_count": 143,
   "metadata": {},
   "outputs": [
    {
     "data": {
      "text/plain": [
       "(114389, 4)"
      ]
     },
     "execution_count": 143,
     "metadata": {},
     "output_type": "execute_result"
    }
   ],
   "source": [
    "df_cast_title_1.shape"
   ]
  },
  {
   "cell_type": "code",
   "execution_count": 149,
   "metadata": {},
   "outputs": [],
   "source": [
    "#df_cast_title_1.to_csv('plataform_title_cast_1.csv')"
   ]
  },
  {
   "cell_type": "code",
   "execution_count": 140,
   "metadata": {},
   "outputs": [
    {
     "name": "stdout",
     "output_type": "stream",
     "text": [
      "<class 'pandas.core.frame.DataFrame'>\n",
      "RangeIndex: 119713 entries, 0 to 119712\n",
      "Data columns (total 4 columns):\n",
      " #   Column     Non-Null Count   Dtype \n",
      "---  ------     --------------   ----- \n",
      " 0   plataform  119713 non-null  object\n",
      " 1   title      119713 non-null  object\n",
      " 2   year       119713 non-null  object\n",
      " 3   cast       119713 non-null  object\n",
      "dtypes: object(4)\n",
      "memory usage: 3.7+ MB\n"
     ]
    }
   ],
   "source": [
    "df_cast_title.info()"
   ]
  },
  {
   "cell_type": "code",
   "execution_count": 145,
   "metadata": {},
   "outputs": [],
   "source": [
    "plataform = 'netflix'\n",
    "year = 2018\n",
    "df_2 = df_cast_title_1[(df_cast_title_1.plataform == plataform) & (df_cast_title_1.year == year)].groupby(['cast']).count().sort_values(by=['title'],ascending=False)\n",
    "#df_1 = df_gender_title[( df_gender_title.gender == gender )].groupby(['plataform']).count().sort_values(by=['gender'], ascending=False)"
   ]
  },
  {
   "cell_type": "code",
   "execution_count": 146,
   "metadata": {},
   "outputs": [
    {
     "data": {
      "text/html": [
       "<div>\n",
       "<style scoped>\n",
       "    .dataframe tbody tr th:only-of-type {\n",
       "        vertical-align: middle;\n",
       "    }\n",
       "\n",
       "    .dataframe tbody tr th {\n",
       "        vertical-align: top;\n",
       "    }\n",
       "\n",
       "    .dataframe thead th {\n",
       "        text-align: right;\n",
       "    }\n",
       "</style>\n",
       "<table border=\"1\" class=\"dataframe\">\n",
       "  <thead>\n",
       "    <tr style=\"text-align: right;\">\n",
       "      <th></th>\n",
       "      <th>plataform</th>\n",
       "      <th>title</th>\n",
       "      <th>year</th>\n",
       "    </tr>\n",
       "    <tr>\n",
       "      <th>cast</th>\n",
       "      <th></th>\n",
       "      <th></th>\n",
       "      <th></th>\n",
       "    </tr>\n",
       "  </thead>\n",
       "  <tbody>\n",
       "    <tr>\n",
       "      <th>Andrea Libman</th>\n",
       "      <td>8</td>\n",
       "      <td>8</td>\n",
       "      <td>8</td>\n",
       "    </tr>\n",
       "    <tr>\n",
       "      <th>Radhika Apte</th>\n",
       "      <td>7</td>\n",
       "      <td>7</td>\n",
       "      <td>7</td>\n",
       "    </tr>\n",
       "    <tr>\n",
       "      <th>Tabitha St. Germain</th>\n",
       "      <td>6</td>\n",
       "      <td>6</td>\n",
       "      <td>6</td>\n",
       "    </tr>\n",
       "    <tr>\n",
       "      <th>Takahiro Sakurai</th>\n",
       "      <td>6</td>\n",
       "      <td>6</td>\n",
       "      <td>6</td>\n",
       "    </tr>\n",
       "    <tr>\n",
       "      <th>Rajesh Kawa</th>\n",
       "      <td>6</td>\n",
       "      <td>6</td>\n",
       "      <td>6</td>\n",
       "    </tr>\n",
       "    <tr>\n",
       "      <th>...</th>\n",
       "      <td>...</td>\n",
       "      <td>...</td>\n",
       "      <td>...</td>\n",
       "    </tr>\n",
       "    <tr>\n",
       "      <th>Henry Turczynowicz</th>\n",
       "      <td>1</td>\n",
       "      <td>1</td>\n",
       "      <td>1</td>\n",
       "    </tr>\n",
       "    <tr>\n",
       "      <th>Henry Thomas</th>\n",
       "      <td>1</td>\n",
       "      <td>1</td>\n",
       "      <td>1</td>\n",
       "    </tr>\n",
       "    <tr>\n",
       "      <th>Henry Prince Mak</th>\n",
       "      <td>1</td>\n",
       "      <td>1</td>\n",
       "      <td>1</td>\n",
       "    </tr>\n",
       "    <tr>\n",
       "      <th>Henry G. Sanders</th>\n",
       "      <td>1</td>\n",
       "      <td>1</td>\n",
       "      <td>1</td>\n",
       "    </tr>\n",
       "    <tr>\n",
       "      <th>Şahin Irmak</th>\n",
       "      <td>1</td>\n",
       "      <td>1</td>\n",
       "      <td>1</td>\n",
       "    </tr>\n",
       "  </tbody>\n",
       "</table>\n",
       "<p>6678 rows × 3 columns</p>\n",
       "</div>"
      ],
      "text/plain": [
       "                     plataform  title  year\n",
       "cast                                       \n",
       "Andrea Libman                8      8     8\n",
       "Radhika Apte                 7      7     7\n",
       "Tabitha St. Germain          6      6     6\n",
       "Takahiro Sakurai             6      6     6\n",
       "Rajesh Kawa                  6      6     6\n",
       "...                        ...    ...   ...\n",
       "Henry Turczynowicz           1      1     1\n",
       "Henry Thomas                 1      1     1\n",
       "Henry Prince Mak             1      1     1\n",
       "Henry G. Sanders             1      1     1\n",
       "Şahin Irmak                  1      1     1\n",
       "\n",
       "[6678 rows x 3 columns]"
      ]
     },
     "execution_count": 146,
     "metadata": {},
     "output_type": "execute_result"
    }
   ],
   "source": [
    "df_2"
   ]
  },
  {
   "cell_type": "code",
   "execution_count": 148,
   "metadata": {},
   "outputs": [
    {
     "name": "stdout",
     "output_type": "stream",
     "text": [
      "Cast: Andrea Libman\n",
      "Cantidad: 8\n"
     ]
    }
   ],
   "source": [
    "print(f\"Cast: {df_2.index[0]}\" );\n",
    "print(f\"Cantidad: {df_2.values[0][0]}\" );"
   ]
  },
  {
   "cell_type": "code",
   "execution_count": 114,
   "metadata": {},
   "outputs": [],
   "source": [
    "#df_cast_title.to_csv('plataform_title_cast.csv')"
   ]
  },
  {
   "cell_type": "code",
   "execution_count": 113,
   "metadata": {},
   "outputs": [
    {
     "data": {
      "text/plain": [
       "(119713, 4)"
      ]
     },
     "execution_count": 113,
     "metadata": {},
     "output_type": "execute_result"
    }
   ],
   "source": [
    "df_cast_title.shape"
   ]
  },
  {
   "cell_type": "code",
   "execution_count": 110,
   "metadata": {},
   "outputs": [
    {
     "data": {
      "text/html": [
       "<div>\n",
       "<style scoped>\n",
       "    .dataframe tbody tr th:only-of-type {\n",
       "        vertical-align: middle;\n",
       "    }\n",
       "\n",
       "    .dataframe tbody tr th {\n",
       "        vertical-align: top;\n",
       "    }\n",
       "\n",
       "    .dataframe thead th {\n",
       "        text-align: right;\n",
       "    }\n",
       "</style>\n",
       "<table border=\"1\" class=\"dataframe\">\n",
       "  <thead>\n",
       "    <tr style=\"text-align: right;\">\n",
       "      <th></th>\n",
       "      <th>plataform</th>\n",
       "      <th>title</th>\n",
       "      <th>year</th>\n",
       "      <th>cast</th>\n",
       "    </tr>\n",
       "  </thead>\n",
       "  <tbody>\n",
       "    <tr>\n",
       "      <th>0</th>\n",
       "      <td>amazon</td>\n",
       "      <td>The Grand Seduction</td>\n",
       "      <td>2014</td>\n",
       "      <td>Brendan Gleeson</td>\n",
       "    </tr>\n",
       "    <tr>\n",
       "      <th>1</th>\n",
       "      <td>amazon</td>\n",
       "      <td>The Grand Seduction</td>\n",
       "      <td>2014</td>\n",
       "      <td>Taylor Kitsch</td>\n",
       "    </tr>\n",
       "    <tr>\n",
       "      <th>2</th>\n",
       "      <td>amazon</td>\n",
       "      <td>The Grand Seduction</td>\n",
       "      <td>2014</td>\n",
       "      <td>Gordon Pinsent</td>\n",
       "    </tr>\n",
       "    <tr>\n",
       "      <th>3</th>\n",
       "      <td>amazon</td>\n",
       "      <td>Take Care Good Night</td>\n",
       "      <td>2018</td>\n",
       "      <td>Mahesh Manjrekar</td>\n",
       "    </tr>\n",
       "    <tr>\n",
       "      <th>4</th>\n",
       "      <td>amazon</td>\n",
       "      <td>Take Care Good Night</td>\n",
       "      <td>2018</td>\n",
       "      <td>Abhay Mahajan</td>\n",
       "    </tr>\n",
       "    <tr>\n",
       "      <th>...</th>\n",
       "      <td>...</td>\n",
       "      <td>...</td>\n",
       "      <td>...</td>\n",
       "      <td>...</td>\n",
       "    </tr>\n",
       "    <tr>\n",
       "      <th>129</th>\n",
       "      <td>amazon</td>\n",
       "      <td>Zoe</td>\n",
       "      <td>2018</td>\n",
       "      <td>Miranda Otto</td>\n",
       "    </tr>\n",
       "    <tr>\n",
       "      <th>130</th>\n",
       "      <td>amazon</td>\n",
       "      <td>Zoe</td>\n",
       "      <td>2018</td>\n",
       "      <td>Rashida Jones</td>\n",
       "    </tr>\n",
       "    <tr>\n",
       "      <th>131</th>\n",
       "      <td>amazon</td>\n",
       "      <td>Zoe</td>\n",
       "      <td>2018</td>\n",
       "      <td>Christina Aguilera</td>\n",
       "    </tr>\n",
       "    <tr>\n",
       "      <th>132</th>\n",
       "      <td>amazon</td>\n",
       "      <td>Zoe</td>\n",
       "      <td>2018</td>\n",
       "      <td>Matthew Gray Gubler</td>\n",
       "    </tr>\n",
       "    <tr>\n",
       "      <th>133</th>\n",
       "      <td>amazon</td>\n",
       "      <td>Zoe</td>\n",
       "      <td>2018</td>\n",
       "      <td>Anthony Shim</td>\n",
       "    </tr>\n",
       "  </tbody>\n",
       "</table>\n",
       "<p>134 rows × 4 columns</p>\n",
       "</div>"
      ],
      "text/plain": [
       "    plataform                 title  year                 cast\n",
       "0      amazon   The Grand Seduction  2014      Brendan Gleeson\n",
       "1      amazon   The Grand Seduction  2014        Taylor Kitsch\n",
       "2      amazon   The Grand Seduction  2014       Gordon Pinsent\n",
       "3      amazon  Take Care Good Night  2018     Mahesh Manjrekar\n",
       "4      amazon  Take Care Good Night  2018        Abhay Mahajan\n",
       "..        ...                   ...   ...                  ...\n",
       "129    amazon                   Zoe  2018         Miranda Otto\n",
       "130    amazon                   Zoe  2018        Rashida Jones\n",
       "131    amazon                   Zoe  2018   Christina Aguilera\n",
       "132    amazon                   Zoe  2018  Matthew Gray Gubler\n",
       "133    amazon                   Zoe  2018         Anthony Shim\n",
       "\n",
       "[134 rows x 4 columns]"
      ]
     },
     "execution_count": 110,
     "metadata": {},
     "output_type": "execute_result"
    }
   ],
   "source": [
    "df_cast_title"
   ]
  },
  {
   "cell_type": "code",
   "execution_count": null,
   "metadata": {},
   "outputs": [],
   "source": []
  },
  {
   "cell_type": "code",
   "execution_count": null,
   "metadata": {},
   "outputs": [],
   "source": [
    "#lista_genero = df_hulu.listed_in.apply(lambda x: x.split(','))\n",
    "#generos=[]\n",
    "listed_in = 'Action, Drama, Suspense'\n",
    "for genero in lista_genero:\n",
    "    #print( genero )\n",
    "    for i in genero:\n",
    "        elemento = i.strip()\n",
    "        if elemento not in generos:\n",
    "            generos.append(elemento)"
   ]
  },
  {
   "cell_type": "code",
   "execution_count": 61,
   "metadata": {},
   "outputs": [
    {
     "data": {
      "text/plain": [
       "'Action, Drama, Suspense'"
      ]
     },
     "execution_count": 61,
     "metadata": {},
     "output_type": "execute_result"
    }
   ],
   "source": [
    "df_test.loc[2]['listed_in']"
   ]
  },
  {
   "cell_type": "code",
   "execution_count": 19,
   "metadata": {},
   "outputs": [
    {
     "data": {
      "text/plain": [
       "(22998, 13)"
      ]
     },
     "execution_count": 19,
     "metadata": {},
     "output_type": "execute_result"
    }
   ],
   "source": [
    "df_todo.shape"
   ]
  },
  {
   "cell_type": "code",
   "execution_count": 59,
   "metadata": {},
   "outputs": [],
   "source": [
    "#df_todo.to_csv('titles_todos.csv')"
   ]
  },
  {
   "cell_type": "code",
   "execution_count": 28,
   "metadata": {},
   "outputs": [],
   "source": [
    "#casts ... actores\n",
    "\n",
    "#lista_casts = df_amazon.cast.apply(lambda x: x.split(','))\n",
    "#lista_casts = df_netflix.cast.apply(lambda x: x.split(','))\n",
    "lista_casts = df_disney.cast.apply(lambda x: x.split(','))"
   ]
  },
  {
   "cell_type": "code",
   "execution_count": 29,
   "metadata": {},
   "outputs": [],
   "source": [
    "for actor in lista_casts:\n",
    "    for i in actor:\n",
    "        elemento = i.strip()\n",
    "        if elemento not in actores:\n",
    "            actores.append(elemento)"
   ]
  },
  {
   "cell_type": "code",
   "execution_count": 30,
   "metadata": {},
   "outputs": [
    {
     "data": {
      "text/plain": [
       "62443"
      ]
     },
     "execution_count": 30,
     "metadata": {},
     "output_type": "execute_result"
    }
   ],
   "source": [
    "len(actores)"
   ]
  },
  {
   "cell_type": "code",
   "execution_count": 110,
   "metadata": {},
   "outputs": [],
   "source": [
    "test= [s for s in actores if \"Jones\" in s]"
   ]
  },
  {
   "cell_type": "code",
   "execution_count": null,
   "metadata": {},
   "outputs": [],
   "source": [
    "test"
   ]
  },
  {
   "cell_type": "code",
   "execution_count": 43,
   "metadata": {},
   "outputs": [],
   "source": [
    "df_test = df_amazon.head(10)"
   ]
  },
  {
   "cell_type": "code",
   "execution_count": 154,
   "metadata": {},
   "outputs": [
    {
     "data": {
      "text/html": [
       "<div>\n",
       "<style scoped>\n",
       "    .dataframe tbody tr th:only-of-type {\n",
       "        vertical-align: middle;\n",
       "    }\n",
       "\n",
       "    .dataframe tbody tr th {\n",
       "        vertical-align: top;\n",
       "    }\n",
       "\n",
       "    .dataframe thead th {\n",
       "        text-align: right;\n",
       "    }\n",
       "</style>\n",
       "<table border=\"1\" class=\"dataframe\">\n",
       "  <thead>\n",
       "    <tr style=\"text-align: right;\">\n",
       "      <th></th>\n",
       "      <th>show_id</th>\n",
       "      <th>type</th>\n",
       "      <th>title</th>\n",
       "      <th>director</th>\n",
       "      <th>cast</th>\n",
       "      <th>country</th>\n",
       "      <th>date_added</th>\n",
       "      <th>release_year</th>\n",
       "      <th>rating</th>\n",
       "      <th>duration</th>\n",
       "      <th>listed_in</th>\n",
       "      <th>description</th>\n",
       "    </tr>\n",
       "  </thead>\n",
       "  <tbody>\n",
       "    <tr>\n",
       "      <th>0</th>\n",
       "      <td>s1</td>\n",
       "      <td>Movie</td>\n",
       "      <td>The Grand Seduction</td>\n",
       "      <td>Don McKellar</td>\n",
       "      <td>Brendan Gleeson, Taylor Kitsch, Gordon Pinsent</td>\n",
       "      <td>Canada</td>\n",
       "      <td>March 30, 2021</td>\n",
       "      <td>2014</td>\n",
       "      <td>NaN</td>\n",
       "      <td>113 min</td>\n",
       "      <td>Comedy, Drama</td>\n",
       "      <td>A small fishing village must procure a local d...</td>\n",
       "    </tr>\n",
       "    <tr>\n",
       "      <th>1</th>\n",
       "      <td>s2</td>\n",
       "      <td>Movie</td>\n",
       "      <td>Take Care Good Night</td>\n",
       "      <td>Girish Joshi</td>\n",
       "      <td>Mahesh Manjrekar, Abhay Mahajan, Sachin Khedekar</td>\n",
       "      <td>India</td>\n",
       "      <td>March 30, 2021</td>\n",
       "      <td>2018</td>\n",
       "      <td>13+</td>\n",
       "      <td>110 min</td>\n",
       "      <td>Drama, International</td>\n",
       "      <td>A Metro Family decides to fight a Cyber Crimin...</td>\n",
       "    </tr>\n",
       "    <tr>\n",
       "      <th>2</th>\n",
       "      <td>s3</td>\n",
       "      <td>Movie</td>\n",
       "      <td>Secrets of Deception</td>\n",
       "      <td>Josh Webber</td>\n",
       "      <td>Tom Sizemore, Lorenzo Lamas, Robert LaSardo, R...</td>\n",
       "      <td>United States</td>\n",
       "      <td>March 30, 2021</td>\n",
       "      <td>2017</td>\n",
       "      <td>NaN</td>\n",
       "      <td>74 min</td>\n",
       "      <td>Action, Drama, Suspense</td>\n",
       "      <td>After a man discovers his wife is cheating on ...</td>\n",
       "    </tr>\n",
       "    <tr>\n",
       "      <th>3</th>\n",
       "      <td>s4</td>\n",
       "      <td>Movie</td>\n",
       "      <td>Pink: Staying True</td>\n",
       "      <td>Sonia Anderson</td>\n",
       "      <td>Interviews with: Pink, Adele, Beyoncé, Britney...</td>\n",
       "      <td>United States</td>\n",
       "      <td>March 30, 2021</td>\n",
       "      <td>2014</td>\n",
       "      <td>NaN</td>\n",
       "      <td>69 min</td>\n",
       "      <td>Documentary</td>\n",
       "      <td>Pink breaks the mold once again, bringing her ...</td>\n",
       "    </tr>\n",
       "    <tr>\n",
       "      <th>4</th>\n",
       "      <td>s5</td>\n",
       "      <td>Movie</td>\n",
       "      <td>Monster Maker</td>\n",
       "      <td>Giles Foster</td>\n",
       "      <td>Harry Dean Stanton, Kieran O'Brien, George Cos...</td>\n",
       "      <td>United Kingdom</td>\n",
       "      <td>March 30, 2021</td>\n",
       "      <td>1989</td>\n",
       "      <td>NaN</td>\n",
       "      <td>45 min</td>\n",
       "      <td>Drama, Fantasy</td>\n",
       "      <td>Teenage Matt Banting wants to work with a famo...</td>\n",
       "    </tr>\n",
       "    <tr>\n",
       "      <th>5</th>\n",
       "      <td>s6</td>\n",
       "      <td>Movie</td>\n",
       "      <td>Living With Dinosaurs</td>\n",
       "      <td>Paul Weiland</td>\n",
       "      <td>Gregory Chisholm, Juliet Stevenson, Brian Hens...</td>\n",
       "      <td>United Kingdom</td>\n",
       "      <td>March 30, 2021</td>\n",
       "      <td>1989</td>\n",
       "      <td>NaN</td>\n",
       "      <td>52 min</td>\n",
       "      <td>Fantasy, Kids</td>\n",
       "      <td>The story unfolds in a an English seaside town...</td>\n",
       "    </tr>\n",
       "    <tr>\n",
       "      <th>6</th>\n",
       "      <td>s7</td>\n",
       "      <td>Movie</td>\n",
       "      <td>Hired Gun</td>\n",
       "      <td>Fran Strine</td>\n",
       "      <td>Alice Cooper, Liberty DeVitto, Ray Parker Jr.,...</td>\n",
       "      <td>United States</td>\n",
       "      <td>March 30, 2021</td>\n",
       "      <td>2017</td>\n",
       "      <td>NaN</td>\n",
       "      <td>98 min</td>\n",
       "      <td>Documentary, Special Interest</td>\n",
       "      <td>They are the \"First Call, A-list\" musicians, j...</td>\n",
       "    </tr>\n",
       "    <tr>\n",
       "      <th>7</th>\n",
       "      <td>s8</td>\n",
       "      <td>Movie</td>\n",
       "      <td>Grease Live!</td>\n",
       "      <td>Thomas Kail, Alex Rudzinski</td>\n",
       "      <td>Julianne Hough, Aaron Tveit, Vanessa Hudgens, ...</td>\n",
       "      <td>United States</td>\n",
       "      <td>March 30, 2021</td>\n",
       "      <td>2016</td>\n",
       "      <td>NaN</td>\n",
       "      <td>131 min</td>\n",
       "      <td>Comedy</td>\n",
       "      <td>This honest, uncompromising comedy chronicles ...</td>\n",
       "    </tr>\n",
       "    <tr>\n",
       "      <th>8</th>\n",
       "      <td>s9</td>\n",
       "      <td>Movie</td>\n",
       "      <td>Global Meltdown</td>\n",
       "      <td>Daniel Gilboy</td>\n",
       "      <td>Michael Paré, Leanne Khol Young, Patrick J. Ma...</td>\n",
       "      <td>Canada</td>\n",
       "      <td>March 30, 2021</td>\n",
       "      <td>2017</td>\n",
       "      <td>NaN</td>\n",
       "      <td>87 min</td>\n",
       "      <td>Action, Science Fiction, Suspense</td>\n",
       "      <td>A helicopter pilot and an environmental scient...</td>\n",
       "    </tr>\n",
       "    <tr>\n",
       "      <th>9</th>\n",
       "      <td>s10</td>\n",
       "      <td>Movie</td>\n",
       "      <td>David's Mother</td>\n",
       "      <td>Robert Allan Ackerman</td>\n",
       "      <td>Kirstie Alley, Sam Waterston, Stockard Channing</td>\n",
       "      <td>United States</td>\n",
       "      <td>April 1, 2021</td>\n",
       "      <td>1994</td>\n",
       "      <td>NaN</td>\n",
       "      <td>92 min</td>\n",
       "      <td>Drama</td>\n",
       "      <td>Sally Goodson is a devoted mother to her autis...</td>\n",
       "    </tr>\n",
       "  </tbody>\n",
       "</table>\n",
       "</div>"
      ],
      "text/plain": [
       "  show_id   type                  title                     director  \\\n",
       "0      s1  Movie    The Grand Seduction                 Don McKellar   \n",
       "1      s2  Movie   Take Care Good Night                 Girish Joshi   \n",
       "2      s3  Movie   Secrets of Deception                  Josh Webber   \n",
       "3      s4  Movie     Pink: Staying True               Sonia Anderson   \n",
       "4      s5  Movie          Monster Maker                 Giles Foster   \n",
       "5      s6  Movie  Living With Dinosaurs                 Paul Weiland   \n",
       "6      s7  Movie              Hired Gun                  Fran Strine   \n",
       "7      s8  Movie           Grease Live!  Thomas Kail, Alex Rudzinski   \n",
       "8      s9  Movie        Global Meltdown                Daniel Gilboy   \n",
       "9     s10  Movie         David's Mother        Robert Allan Ackerman   \n",
       "\n",
       "                                                cast         country  \\\n",
       "0     Brendan Gleeson, Taylor Kitsch, Gordon Pinsent          Canada   \n",
       "1   Mahesh Manjrekar, Abhay Mahajan, Sachin Khedekar           India   \n",
       "2  Tom Sizemore, Lorenzo Lamas, Robert LaSardo, R...   United States   \n",
       "3  Interviews with: Pink, Adele, Beyoncé, Britney...   United States   \n",
       "4  Harry Dean Stanton, Kieran O'Brien, George Cos...  United Kingdom   \n",
       "5  Gregory Chisholm, Juliet Stevenson, Brian Hens...  United Kingdom   \n",
       "6  Alice Cooper, Liberty DeVitto, Ray Parker Jr.,...   United States   \n",
       "7  Julianne Hough, Aaron Tveit, Vanessa Hudgens, ...   United States   \n",
       "8  Michael Paré, Leanne Khol Young, Patrick J. Ma...          Canada   \n",
       "9    Kirstie Alley, Sam Waterston, Stockard Channing   United States   \n",
       "\n",
       "       date_added  release_year rating duration  \\\n",
       "0  March 30, 2021          2014    NaN  113 min   \n",
       "1  March 30, 2021          2018    13+  110 min   \n",
       "2  March 30, 2021          2017    NaN   74 min   \n",
       "3  March 30, 2021          2014    NaN   69 min   \n",
       "4  March 30, 2021          1989    NaN   45 min   \n",
       "5  March 30, 2021          1989    NaN   52 min   \n",
       "6  March 30, 2021          2017    NaN   98 min   \n",
       "7  March 30, 2021          2016    NaN  131 min   \n",
       "8  March 30, 2021          2017    NaN   87 min   \n",
       "9   April 1, 2021          1994    NaN   92 min   \n",
       "\n",
       "                           listed_in  \\\n",
       "0                      Comedy, Drama   \n",
       "1               Drama, International   \n",
       "2            Action, Drama, Suspense   \n",
       "3                        Documentary   \n",
       "4                     Drama, Fantasy   \n",
       "5                      Fantasy, Kids   \n",
       "6      Documentary, Special Interest   \n",
       "7                             Comedy   \n",
       "8  Action, Science Fiction, Suspense   \n",
       "9                              Drama   \n",
       "\n",
       "                                         description  \n",
       "0  A small fishing village must procure a local d...  \n",
       "1  A Metro Family decides to fight a Cyber Crimin...  \n",
       "2  After a man discovers his wife is cheating on ...  \n",
       "3  Pink breaks the mold once again, bringing her ...  \n",
       "4  Teenage Matt Banting wants to work with a famo...  \n",
       "5  The story unfolds in a an English seaside town...  \n",
       "6  They are the \"First Call, A-list\" musicians, j...  \n",
       "7  This honest, uncompromising comedy chronicles ...  \n",
       "8  A helicopter pilot and an environmental scient...  \n",
       "9  Sally Goodson is a devoted mother to her autis...  "
      ]
     },
     "execution_count": 154,
     "metadata": {},
     "output_type": "execute_result"
    }
   ],
   "source": [
    "df_test"
   ]
  },
  {
   "cell_type": "code",
   "execution_count": 83,
   "metadata": {},
   "outputs": [],
   "source": [
    "#dataframe title\n",
    "data = []\n",
    "df_titles = pd.DataFrame( data, columns=[\"id_title\", \"show_id\", \"type\", \"title\", \"director\", \"country\",\"date_added\",\"release_year\",\"rating\",\"duration\",\"description\"])"
   ]
  },
  {
   "cell_type": "code",
   "execution_count": 84,
   "metadata": {},
   "outputs": [],
   "source": [
    "#dataframe title carga de datos\n",
    "\n",
    "plataform = 1 #amazon\n",
    "\n",
    "for i, row in df_amazon.iterrows():\n",
    "    if row['title'] not in df_titles.title.values:\n",
    "        new_id = len(df_titles)+1\n",
    "        df_titles = df_titles.append({\n",
    "            'id_title': new_id,\n",
    "            'show_id': row['show_id'],\n",
    "            'type': row['type'],\n",
    "            'title': row['title'],\n",
    "            'director': row['director'],\n",
    "            'country': row['country'],\n",
    "            'date_added': row['date_added'],\n",
    "            'release_year': row['release_year'],\n",
    "            'rating': row['rating'],\n",
    "            'duration': row['duration'],\n",
    "            'description': row['description']\n",
    "        }, ignore_index=True)\n",
    "\n",
    "        #agrego los generos por titulo a la tabla\n",
    "        lgenero = [ x.strip() for x in row['listed_in'].split(',') ]\n",
    "        for i in lgenero:\n",
    "            id_gender = df_gender[(df_gender.gender == i )].id_gender.values[0]\n",
    "            #print( id_gender )\n",
    "\n",
    "            df_gender_title = df_gender_title.append({\n",
    "                'id_gender_title': len(df_gender_title)+1,\n",
    "                'id_title': new_id,\n",
    "                'id_gender': id_gender\n",
    "            }, ignore_index=True)\n",
    "\n",
    "        #agrego los actores por titulo a la tabla\n",
    "        lcast = [ x.strip() for x in row['cast'].split(',') ]\n",
    "        for i in lcast:\n",
    "            id_cast = df_cast[(df_cast.cast == i )].id_cast.values[0]\n",
    "            #print( id_gender )\n",
    "\n",
    "            df_cast_title = df_cast_title.append({\n",
    "                'id_cast_title': len(df_cast_title)+1,\n",
    "                'id_title': new_id,\n",
    "                'id_cast': id_cast\n",
    "            }, ignore_index=True)\n",
    "\n",
    "    else:\n",
    "        #si ya está en la tabla de title, busco el ID\n",
    "        new_id = df_titles[(df_titles.title == row['title'] )].id_title.values[0]\n",
    "\n",
    "        \n",
    "    #df_title_plataform = pd.DataFrame(data, columns=[\"id_title_pataform\", \"id_title\", \"id_plataform\"])\n",
    "    df_title_plataform = df_title_plataform.append({\n",
    "        'id_title_pataform': len(df_title_plataform)+1,\n",
    "        'id_title': new_id,\n",
    "        'id_plataform': plataform\n",
    "    }, ignore_index=True)\n",
    "    \n"
   ]
  },
  {
   "cell_type": "code",
   "execution_count": 168,
   "metadata": {},
   "outputs": [
    {
     "data": {
      "text/html": [
       "<div>\n",
       "<style scoped>\n",
       "    .dataframe tbody tr th:only-of-type {\n",
       "        vertical-align: middle;\n",
       "    }\n",
       "\n",
       "    .dataframe tbody tr th {\n",
       "        vertical-align: top;\n",
       "    }\n",
       "\n",
       "    .dataframe thead th {\n",
       "        text-align: right;\n",
       "    }\n",
       "</style>\n",
       "<table border=\"1\" class=\"dataframe\">\n",
       "  <thead>\n",
       "    <tr style=\"text-align: right;\">\n",
       "      <th></th>\n",
       "      <th>show_id</th>\n",
       "      <th>type</th>\n",
       "      <th>title</th>\n",
       "      <th>director</th>\n",
       "      <th>cast</th>\n",
       "      <th>country</th>\n",
       "      <th>date_added</th>\n",
       "      <th>release_year</th>\n",
       "      <th>rating</th>\n",
       "      <th>duration</th>\n",
       "      <th>listed_in</th>\n",
       "      <th>description</th>\n",
       "    </tr>\n",
       "  </thead>\n",
       "  <tbody>\n",
       "    <tr>\n",
       "      <th>0</th>\n",
       "      <td>s1</td>\n",
       "      <td>Movie</td>\n",
       "      <td>The Grand Seduction</td>\n",
       "      <td>Don McKellar</td>\n",
       "      <td>Brendan Gleeson, Taylor Kitsch, Gordon Pinsent</td>\n",
       "      <td>Canada</td>\n",
       "      <td>March 30, 2021</td>\n",
       "      <td>2014</td>\n",
       "      <td>NaN</td>\n",
       "      <td>113 min</td>\n",
       "      <td>Comedy, Drama</td>\n",
       "      <td>A small fishing village must procure a local d...</td>\n",
       "    </tr>\n",
       "    <tr>\n",
       "      <th>1</th>\n",
       "      <td>s2</td>\n",
       "      <td>Movie</td>\n",
       "      <td>Take Care Good Night</td>\n",
       "      <td>Girish Joshi</td>\n",
       "      <td>Mahesh Manjrekar, Abhay Mahajan, Sachin Khedekar</td>\n",
       "      <td>India</td>\n",
       "      <td>March 30, 2021</td>\n",
       "      <td>2018</td>\n",
       "      <td>13+</td>\n",
       "      <td>110 min</td>\n",
       "      <td>Drama, International</td>\n",
       "      <td>A Metro Family decides to fight a Cyber Crimin...</td>\n",
       "    </tr>\n",
       "    <tr>\n",
       "      <th>2</th>\n",
       "      <td>s3</td>\n",
       "      <td>Movie</td>\n",
       "      <td>Secrets of Deception</td>\n",
       "      <td>Josh Webber</td>\n",
       "      <td>Tom Sizemore, Lorenzo Lamas, Robert LaSardo, R...</td>\n",
       "      <td>United States</td>\n",
       "      <td>March 30, 2021</td>\n",
       "      <td>2017</td>\n",
       "      <td>NaN</td>\n",
       "      <td>74 min</td>\n",
       "      <td>Action, Drama, Suspense</td>\n",
       "      <td>After a man discovers his wife is cheating on ...</td>\n",
       "    </tr>\n",
       "    <tr>\n",
       "      <th>3</th>\n",
       "      <td>s4</td>\n",
       "      <td>Movie</td>\n",
       "      <td>Pink: Staying True</td>\n",
       "      <td>Sonia Anderson</td>\n",
       "      <td>Interviews with: Pink, Adele, Beyoncé, Britney...</td>\n",
       "      <td>United States</td>\n",
       "      <td>March 30, 2021</td>\n",
       "      <td>2014</td>\n",
       "      <td>NaN</td>\n",
       "      <td>69 min</td>\n",
       "      <td>Documentary</td>\n",
       "      <td>Pink breaks the mold once again, bringing her ...</td>\n",
       "    </tr>\n",
       "    <tr>\n",
       "      <th>4</th>\n",
       "      <td>s5</td>\n",
       "      <td>Movie</td>\n",
       "      <td>Monster Maker</td>\n",
       "      <td>Giles Foster</td>\n",
       "      <td>Harry Dean Stanton, Kieran O'Brien, George Cos...</td>\n",
       "      <td>United Kingdom</td>\n",
       "      <td>March 30, 2021</td>\n",
       "      <td>1989</td>\n",
       "      <td>NaN</td>\n",
       "      <td>45 min</td>\n",
       "      <td>Drama, Fantasy</td>\n",
       "      <td>Teenage Matt Banting wants to work with a famo...</td>\n",
       "    </tr>\n",
       "  </tbody>\n",
       "</table>\n",
       "</div>"
      ],
      "text/plain": [
       "  show_id   type                 title        director  \\\n",
       "0      s1  Movie   The Grand Seduction    Don McKellar   \n",
       "1      s2  Movie  Take Care Good Night    Girish Joshi   \n",
       "2      s3  Movie  Secrets of Deception     Josh Webber   \n",
       "3      s4  Movie    Pink: Staying True  Sonia Anderson   \n",
       "4      s5  Movie         Monster Maker    Giles Foster   \n",
       "\n",
       "                                                cast         country  \\\n",
       "0     Brendan Gleeson, Taylor Kitsch, Gordon Pinsent          Canada   \n",
       "1   Mahesh Manjrekar, Abhay Mahajan, Sachin Khedekar           India   \n",
       "2  Tom Sizemore, Lorenzo Lamas, Robert LaSardo, R...   United States   \n",
       "3  Interviews with: Pink, Adele, Beyoncé, Britney...   United States   \n",
       "4  Harry Dean Stanton, Kieran O'Brien, George Cos...  United Kingdom   \n",
       "\n",
       "       date_added  release_year rating duration                listed_in  \\\n",
       "0  March 30, 2021          2014    NaN  113 min            Comedy, Drama   \n",
       "1  March 30, 2021          2018    13+  110 min     Drama, International   \n",
       "2  March 30, 2021          2017    NaN   74 min  Action, Drama, Suspense   \n",
       "3  March 30, 2021          2014    NaN   69 min              Documentary   \n",
       "4  March 30, 2021          1989    NaN   45 min           Drama, Fantasy   \n",
       "\n",
       "                                         description  \n",
       "0  A small fishing village must procure a local d...  \n",
       "1  A Metro Family decides to fight a Cyber Crimin...  \n",
       "2  After a man discovers his wife is cheating on ...  \n",
       "3  Pink breaks the mold once again, bringing her ...  \n",
       "4  Teenage Matt Banting wants to work with a famo...  "
      ]
     },
     "execution_count": 168,
     "metadata": {},
     "output_type": "execute_result"
    }
   ],
   "source": [
    "df_test.head()"
   ]
  },
  {
   "cell_type": "code",
   "execution_count": 45,
   "metadata": {},
   "outputs": [],
   "source": [
    "ungenero = df_test.iloc[2,10]"
   ]
  },
  {
   "cell_type": "code",
   "execution_count": 46,
   "metadata": {},
   "outputs": [
    {
     "data": {
      "text/plain": [
       "'Action, Drama, Suspense'"
      ]
     },
     "execution_count": 46,
     "metadata": {},
     "output_type": "execute_result"
    }
   ],
   "source": [
    "ungenero"
   ]
  },
  {
   "cell_type": "code",
   "execution_count": 61,
   "metadata": {},
   "outputs": [],
   "source": [
    "id_gender = df_gender[(df_gender.gender =='Suspense')].id_gender.values[0]"
   ]
  },
  {
   "cell_type": "code",
   "execution_count": 63,
   "metadata": {},
   "outputs": [
    {
     "data": {
      "text/plain": [
       "5"
      ]
     },
     "execution_count": 63,
     "metadata": {},
     "output_type": "execute_result"
    }
   ],
   "source": [
    "id_gender"
   ]
  },
  {
   "cell_type": "code",
   "execution_count": 47,
   "metadata": {},
   "outputs": [],
   "source": [
    "lgenero = [ x.strip() for x in ungenero.split(',') ]"
   ]
  },
  {
   "cell_type": "code",
   "execution_count": 48,
   "metadata": {},
   "outputs": [
    {
     "data": {
      "text/plain": [
       "['Action', 'Drama', 'Suspense']"
      ]
     },
     "execution_count": 48,
     "metadata": {},
     "output_type": "execute_result"
    }
   ],
   "source": [
    "lgenero"
   ]
  },
  {
   "cell_type": "code",
   "execution_count": 65,
   "metadata": {},
   "outputs": [
    {
     "name": "stdout",
     "output_type": "stream",
     "text": [
      "4\n",
      "2\n",
      "5\n"
     ]
    }
   ],
   "source": [
    "lgenero = [ x.strip() for x in ungenero.split(',') ]\n",
    "for i in lgenero:\n",
    "    id_gender = df_gender[(df_gender.gender == i )].id_gender.values[0]\n",
    "    print( id_gender )\n",
    "    "
   ]
  },
  {
   "cell_type": "code",
   "execution_count": 76,
   "metadata": {},
   "outputs": [
    {
     "data": {
      "text/html": [
       "<div>\n",
       "<style scoped>\n",
       "    .dataframe tbody tr th:only-of-type {\n",
       "        vertical-align: middle;\n",
       "    }\n",
       "\n",
       "    .dataframe tbody tr th {\n",
       "        vertical-align: top;\n",
       "    }\n",
       "\n",
       "    .dataframe thead th {\n",
       "        text-align: right;\n",
       "    }\n",
       "</style>\n",
       "<table border=\"1\" class=\"dataframe\">\n",
       "  <thead>\n",
       "    <tr style=\"text-align: right;\">\n",
       "      <th></th>\n",
       "      <th>id_title</th>\n",
       "      <th>show_id</th>\n",
       "      <th>type</th>\n",
       "      <th>title</th>\n",
       "      <th>director</th>\n",
       "      <th>country</th>\n",
       "      <th>date_added</th>\n",
       "      <th>release_year</th>\n",
       "      <th>rating</th>\n",
       "      <th>duration</th>\n",
       "      <th>description</th>\n",
       "    </tr>\n",
       "  </thead>\n",
       "  <tbody>\n",
       "    <tr>\n",
       "      <th>0</th>\n",
       "      <td>1</td>\n",
       "      <td>s1</td>\n",
       "      <td>Movie</td>\n",
       "      <td>The Grand Seduction</td>\n",
       "      <td>Don McKellar</td>\n",
       "      <td>Canada</td>\n",
       "      <td>March 30, 2021</td>\n",
       "      <td>2014</td>\n",
       "      <td>NaN</td>\n",
       "      <td>113 min</td>\n",
       "      <td>A small fishing village must procure a local d...</td>\n",
       "    </tr>\n",
       "    <tr>\n",
       "      <th>1</th>\n",
       "      <td>2</td>\n",
       "      <td>s2</td>\n",
       "      <td>Movie</td>\n",
       "      <td>Take Care Good Night</td>\n",
       "      <td>Girish Joshi</td>\n",
       "      <td>India</td>\n",
       "      <td>March 30, 2021</td>\n",
       "      <td>2018</td>\n",
       "      <td>13+</td>\n",
       "      <td>110 min</td>\n",
       "      <td>A Metro Family decides to fight a Cyber Crimin...</td>\n",
       "    </tr>\n",
       "    <tr>\n",
       "      <th>2</th>\n",
       "      <td>3</td>\n",
       "      <td>s3</td>\n",
       "      <td>Movie</td>\n",
       "      <td>Secrets of Deception</td>\n",
       "      <td>Josh Webber</td>\n",
       "      <td>United States</td>\n",
       "      <td>March 30, 2021</td>\n",
       "      <td>2017</td>\n",
       "      <td>NaN</td>\n",
       "      <td>74 min</td>\n",
       "      <td>After a man discovers his wife is cheating on ...</td>\n",
       "    </tr>\n",
       "    <tr>\n",
       "      <th>3</th>\n",
       "      <td>4</td>\n",
       "      <td>s4</td>\n",
       "      <td>Movie</td>\n",
       "      <td>Pink: Staying True</td>\n",
       "      <td>Sonia Anderson</td>\n",
       "      <td>United States</td>\n",
       "      <td>March 30, 2021</td>\n",
       "      <td>2014</td>\n",
       "      <td>NaN</td>\n",
       "      <td>69 min</td>\n",
       "      <td>Pink breaks the mold once again, bringing her ...</td>\n",
       "    </tr>\n",
       "    <tr>\n",
       "      <th>4</th>\n",
       "      <td>5</td>\n",
       "      <td>s5</td>\n",
       "      <td>Movie</td>\n",
       "      <td>Monster Maker</td>\n",
       "      <td>Giles Foster</td>\n",
       "      <td>United Kingdom</td>\n",
       "      <td>March 30, 2021</td>\n",
       "      <td>1989</td>\n",
       "      <td>NaN</td>\n",
       "      <td>45 min</td>\n",
       "      <td>Teenage Matt Banting wants to work with a famo...</td>\n",
       "    </tr>\n",
       "    <tr>\n",
       "      <th>5</th>\n",
       "      <td>6</td>\n",
       "      <td>s6</td>\n",
       "      <td>Movie</td>\n",
       "      <td>Living With Dinosaurs</td>\n",
       "      <td>Paul Weiland</td>\n",
       "      <td>United Kingdom</td>\n",
       "      <td>March 30, 2021</td>\n",
       "      <td>1989</td>\n",
       "      <td>NaN</td>\n",
       "      <td>52 min</td>\n",
       "      <td>The story unfolds in a an English seaside town...</td>\n",
       "    </tr>\n",
       "    <tr>\n",
       "      <th>6</th>\n",
       "      <td>7</td>\n",
       "      <td>s7</td>\n",
       "      <td>Movie</td>\n",
       "      <td>Hired Gun</td>\n",
       "      <td>Fran Strine</td>\n",
       "      <td>United States</td>\n",
       "      <td>March 30, 2021</td>\n",
       "      <td>2017</td>\n",
       "      <td>NaN</td>\n",
       "      <td>98 min</td>\n",
       "      <td>They are the \"First Call, A-list\" musicians, j...</td>\n",
       "    </tr>\n",
       "    <tr>\n",
       "      <th>7</th>\n",
       "      <td>8</td>\n",
       "      <td>s8</td>\n",
       "      <td>Movie</td>\n",
       "      <td>Grease Live!</td>\n",
       "      <td>Thomas Kail, Alex Rudzinski</td>\n",
       "      <td>United States</td>\n",
       "      <td>March 30, 2021</td>\n",
       "      <td>2016</td>\n",
       "      <td>NaN</td>\n",
       "      <td>131 min</td>\n",
       "      <td>This honest, uncompromising comedy chronicles ...</td>\n",
       "    </tr>\n",
       "    <tr>\n",
       "      <th>8</th>\n",
       "      <td>9</td>\n",
       "      <td>s9</td>\n",
       "      <td>Movie</td>\n",
       "      <td>Global Meltdown</td>\n",
       "      <td>Daniel Gilboy</td>\n",
       "      <td>Canada</td>\n",
       "      <td>March 30, 2021</td>\n",
       "      <td>2017</td>\n",
       "      <td>NaN</td>\n",
       "      <td>87 min</td>\n",
       "      <td>A helicopter pilot and an environmental scient...</td>\n",
       "    </tr>\n",
       "    <tr>\n",
       "      <th>9</th>\n",
       "      <td>10</td>\n",
       "      <td>s10</td>\n",
       "      <td>Movie</td>\n",
       "      <td>David's Mother</td>\n",
       "      <td>Robert Allan Ackerman</td>\n",
       "      <td>United States</td>\n",
       "      <td>April 1, 2021</td>\n",
       "      <td>1994</td>\n",
       "      <td>NaN</td>\n",
       "      <td>92 min</td>\n",
       "      <td>Sally Goodson is a devoted mother to her autis...</td>\n",
       "    </tr>\n",
       "  </tbody>\n",
       "</table>\n",
       "</div>"
      ],
      "text/plain": [
       "  id_title show_id   type                  title                     director  \\\n",
       "0        1      s1  Movie    The Grand Seduction                 Don McKellar   \n",
       "1        2      s2  Movie   Take Care Good Night                 Girish Joshi   \n",
       "2        3      s3  Movie   Secrets of Deception                  Josh Webber   \n",
       "3        4      s4  Movie     Pink: Staying True               Sonia Anderson   \n",
       "4        5      s5  Movie          Monster Maker                 Giles Foster   \n",
       "5        6      s6  Movie  Living With Dinosaurs                 Paul Weiland   \n",
       "6        7      s7  Movie              Hired Gun                  Fran Strine   \n",
       "7        8      s8  Movie           Grease Live!  Thomas Kail, Alex Rudzinski   \n",
       "8        9      s9  Movie        Global Meltdown                Daniel Gilboy   \n",
       "9       10     s10  Movie         David's Mother        Robert Allan Ackerman   \n",
       "\n",
       "          country      date_added release_year rating duration  \\\n",
       "0          Canada  March 30, 2021         2014    NaN  113 min   \n",
       "1           India  March 30, 2021         2018    13+  110 min   \n",
       "2   United States  March 30, 2021         2017    NaN   74 min   \n",
       "3   United States  March 30, 2021         2014    NaN   69 min   \n",
       "4  United Kingdom  March 30, 2021         1989    NaN   45 min   \n",
       "5  United Kingdom  March 30, 2021         1989    NaN   52 min   \n",
       "6   United States  March 30, 2021         2017    NaN   98 min   \n",
       "7   United States  March 30, 2021         2016    NaN  131 min   \n",
       "8          Canada  March 30, 2021         2017    NaN   87 min   \n",
       "9   United States   April 1, 2021         1994    NaN   92 min   \n",
       "\n",
       "                                         description  \n",
       "0  A small fishing village must procure a local d...  \n",
       "1  A Metro Family decides to fight a Cyber Crimin...  \n",
       "2  After a man discovers his wife is cheating on ...  \n",
       "3  Pink breaks the mold once again, bringing her ...  \n",
       "4  Teenage Matt Banting wants to work with a famo...  \n",
       "5  The story unfolds in a an English seaside town...  \n",
       "6  They are the \"First Call, A-list\" musicians, j...  \n",
       "7  This honest, uncompromising comedy chronicles ...  \n",
       "8  A helicopter pilot and an environmental scient...  \n",
       "9  Sally Goodson is a devoted mother to her autis...  "
      ]
     },
     "execution_count": 76,
     "metadata": {},
     "output_type": "execute_result"
    }
   ],
   "source": [
    "df_titles"
   ]
  },
  {
   "cell_type": "code",
   "execution_count": 89,
   "metadata": {},
   "outputs": [
    {
     "data": {
      "text/plain": [
       "type\n",
       "Movie      6131\n",
       "TV Show    2676\n",
       "Name: type, dtype: int64"
      ]
     },
     "execution_count": 89,
     "metadata": {},
     "output_type": "execute_result"
    }
   ],
   "source": [
    "df_netflix.groupby(['type'])['type'].count()\n",
    "#df_hulu.groupby(['duration'])['duration'].count()"
   ]
  },
  {
   "cell_type": "code",
   "execution_count": 90,
   "metadata": {},
   "outputs": [
    {
     "data": {
      "text/html": [
       "<div>\n",
       "<style scoped>\n",
       "    .dataframe tbody tr th:only-of-type {\n",
       "        vertical-align: middle;\n",
       "    }\n",
       "\n",
       "    .dataframe tbody tr th {\n",
       "        vertical-align: top;\n",
       "    }\n",
       "\n",
       "    .dataframe thead th {\n",
       "        text-align: right;\n",
       "    }\n",
       "</style>\n",
       "<table border=\"1\" class=\"dataframe\">\n",
       "  <thead>\n",
       "    <tr style=\"text-align: right;\">\n",
       "      <th></th>\n",
       "      <th>show_id</th>\n",
       "      <th>type</th>\n",
       "      <th>title</th>\n",
       "      <th>director</th>\n",
       "      <th>cast</th>\n",
       "      <th>country</th>\n",
       "      <th>date_added</th>\n",
       "      <th>release_year</th>\n",
       "      <th>rating</th>\n",
       "      <th>duration</th>\n",
       "      <th>listed_in</th>\n",
       "      <th>description</th>\n",
       "    </tr>\n",
       "  </thead>\n",
       "  <tbody>\n",
       "    <tr>\n",
       "      <th>0</th>\n",
       "      <td>s1</td>\n",
       "      <td>Movie</td>\n",
       "      <td>Ricky Velez: Here's Everything</td>\n",
       "      <td>NaN</td>\n",
       "      <td>NaN</td>\n",
       "      <td>NaN</td>\n",
       "      <td>October 24, 2021</td>\n",
       "      <td>2021</td>\n",
       "      <td>TV-MA</td>\n",
       "      <td>NaN</td>\n",
       "      <td>Comedy, Stand Up</td>\n",
       "      <td>​Comedian Ricky Velez bares it all with his ho...</td>\n",
       "    </tr>\n",
       "    <tr>\n",
       "      <th>1</th>\n",
       "      <td>s2</td>\n",
       "      <td>Movie</td>\n",
       "      <td>Silent Night</td>\n",
       "      <td>NaN</td>\n",
       "      <td>NaN</td>\n",
       "      <td>NaN</td>\n",
       "      <td>October 23, 2021</td>\n",
       "      <td>2020</td>\n",
       "      <td>NaN</td>\n",
       "      <td>94 min</td>\n",
       "      <td>Crime, Drama, Thriller</td>\n",
       "      <td>Mark, a low end South London hitman recently r...</td>\n",
       "    </tr>\n",
       "    <tr>\n",
       "      <th>2</th>\n",
       "      <td>s3</td>\n",
       "      <td>Movie</td>\n",
       "      <td>The Marksman</td>\n",
       "      <td>NaN</td>\n",
       "      <td>NaN</td>\n",
       "      <td>NaN</td>\n",
       "      <td>October 23, 2021</td>\n",
       "      <td>2021</td>\n",
       "      <td>PG-13</td>\n",
       "      <td>108 min</td>\n",
       "      <td>Action, Thriller</td>\n",
       "      <td>A hardened Arizona rancher tries to protect an...</td>\n",
       "    </tr>\n",
       "    <tr>\n",
       "      <th>3</th>\n",
       "      <td>s4</td>\n",
       "      <td>Movie</td>\n",
       "      <td>Gaia</td>\n",
       "      <td>NaN</td>\n",
       "      <td>NaN</td>\n",
       "      <td>NaN</td>\n",
       "      <td>October 22, 2021</td>\n",
       "      <td>2021</td>\n",
       "      <td>R</td>\n",
       "      <td>97 min</td>\n",
       "      <td>Horror</td>\n",
       "      <td>A forest ranger and two survivalists with a cu...</td>\n",
       "    </tr>\n",
       "    <tr>\n",
       "      <th>4</th>\n",
       "      <td>s5</td>\n",
       "      <td>Movie</td>\n",
       "      <td>Settlers</td>\n",
       "      <td>NaN</td>\n",
       "      <td>NaN</td>\n",
       "      <td>NaN</td>\n",
       "      <td>October 22, 2021</td>\n",
       "      <td>2021</td>\n",
       "      <td>NaN</td>\n",
       "      <td>104 min</td>\n",
       "      <td>Science Fiction, Thriller</td>\n",
       "      <td>Mankind's earliest settlers on the Martian fro...</td>\n",
       "    </tr>\n",
       "  </tbody>\n",
       "</table>\n",
       "</div>"
      ],
      "text/plain": [
       "  show_id   type                           title director  cast country  \\\n",
       "0      s1  Movie  Ricky Velez: Here's Everything      NaN   NaN     NaN   \n",
       "1      s2  Movie                    Silent Night      NaN   NaN     NaN   \n",
       "2      s3  Movie                    The Marksman      NaN   NaN     NaN   \n",
       "3      s4  Movie                            Gaia      NaN   NaN     NaN   \n",
       "4      s5  Movie                        Settlers      NaN   NaN     NaN   \n",
       "\n",
       "         date_added  release_year rating duration                  listed_in  \\\n",
       "0  October 24, 2021          2021  TV-MA      NaN           Comedy, Stand Up   \n",
       "1  October 23, 2021          2020    NaN   94 min     Crime, Drama, Thriller   \n",
       "2  October 23, 2021          2021  PG-13  108 min           Action, Thriller   \n",
       "3  October 22, 2021          2021      R   97 min                     Horror   \n",
       "4  October 22, 2021          2021    NaN  104 min  Science Fiction, Thriller   \n",
       "\n",
       "                                         description  \n",
       "0  ​Comedian Ricky Velez bares it all with his ho...  \n",
       "1  Mark, a low end South London hitman recently r...  \n",
       "2  A hardened Arizona rancher tries to protect an...  \n",
       "3  A forest ranger and two survivalists with a cu...  \n",
       "4  Mankind's earliest settlers on the Martian fro...  "
      ]
     },
     "execution_count": 90,
     "metadata": {},
     "output_type": "execute_result"
    }
   ],
   "source": [
    "df_hulu.head()"
   ]
  },
  {
   "cell_type": "code",
   "execution_count": 94,
   "metadata": {},
   "outputs": [
    {
     "data": {
      "text/html": [
       "<div>\n",
       "<style scoped>\n",
       "    .dataframe tbody tr th:only-of-type {\n",
       "        vertical-align: middle;\n",
       "    }\n",
       "\n",
       "    .dataframe tbody tr th {\n",
       "        vertical-align: top;\n",
       "    }\n",
       "\n",
       "    .dataframe thead th {\n",
       "        text-align: right;\n",
       "    }\n",
       "</style>\n",
       "<table border=\"1\" class=\"dataframe\">\n",
       "  <thead>\n",
       "    <tr style=\"text-align: right;\">\n",
       "      <th></th>\n",
       "      <th>show_id</th>\n",
       "      <th>type</th>\n",
       "      <th>title</th>\n",
       "      <th>director</th>\n",
       "      <th>cast</th>\n",
       "      <th>country</th>\n",
       "      <th>date_added</th>\n",
       "      <th>release_year</th>\n",
       "      <th>rating</th>\n",
       "      <th>duration</th>\n",
       "      <th>listed_in</th>\n",
       "      <th>description</th>\n",
       "    </tr>\n",
       "  </thead>\n",
       "  <tbody>\n",
       "    <tr>\n",
       "      <th>57</th>\n",
       "      <td>s58</td>\n",
       "      <td>Movie</td>\n",
       "      <td>BELLATOR MMA: Davis vs. Nemkov</td>\n",
       "      <td>NaN</td>\n",
       "      <td>NaN</td>\n",
       "      <td>NaN</td>\n",
       "      <td>October 6, 2021</td>\n",
       "      <td>2018</td>\n",
       "      <td>NaN</td>\n",
       "      <td>NaN</td>\n",
       "      <td>Sports</td>\n",
       "      <td>Former BELLATOR MMA champion Phil Davis faces ...</td>\n",
       "    </tr>\n",
       "    <tr>\n",
       "      <th>184</th>\n",
       "      <td>s185</td>\n",
       "      <td>Movie</td>\n",
       "      <td>This World Alone</td>\n",
       "      <td>NaN</td>\n",
       "      <td>NaN</td>\n",
       "      <td>NaN</td>\n",
       "      <td>September 24, 2021</td>\n",
       "      <td>2018</td>\n",
       "      <td>NaN</td>\n",
       "      <td>90 min</td>\n",
       "      <td>Drama, Science Fiction</td>\n",
       "      <td>After a cataclysmic event leaves the Earth wit...</td>\n",
       "    </tr>\n",
       "    <tr>\n",
       "      <th>211</th>\n",
       "      <td>s212</td>\n",
       "      <td>Movie</td>\n",
       "      <td>On Chesil Beach</td>\n",
       "      <td>NaN</td>\n",
       "      <td>NaN</td>\n",
       "      <td>NaN</td>\n",
       "      <td>September 16, 2021</td>\n",
       "      <td>2018</td>\n",
       "      <td>R</td>\n",
       "      <td>110 min</td>\n",
       "      <td>Cooking &amp; Food, Drama, Lifestyle &amp; Culture</td>\n",
       "      <td>In 1962, newlyweds Edward and Florence, both i...</td>\n",
       "    </tr>\n",
       "    <tr>\n",
       "      <th>214</th>\n",
       "      <td>s215</td>\n",
       "      <td>Movie</td>\n",
       "      <td>All About Nina</td>\n",
       "      <td>NaN</td>\n",
       "      <td>NaN</td>\n",
       "      <td>NaN</td>\n",
       "      <td>September 15, 2021</td>\n",
       "      <td>2018</td>\n",
       "      <td>R</td>\n",
       "      <td>101 min</td>\n",
       "      <td>Comedy, Drama</td>\n",
       "      <td>Just as Nina Geld’s (Mary Elizabeth Winstead) ...</td>\n",
       "    </tr>\n",
       "    <tr>\n",
       "      <th>217</th>\n",
       "      <td>s218</td>\n",
       "      <td>Movie</td>\n",
       "      <td>Gilberto Santa Rosa, 40…y Contando</td>\n",
       "      <td>NaN</td>\n",
       "      <td>NaN</td>\n",
       "      <td>NaN</td>\n",
       "      <td>September 15, 2021</td>\n",
       "      <td>2018</td>\n",
       "      <td>TV-PG</td>\n",
       "      <td>NaN</td>\n",
       "      <td>Documentaries, Latino, Music</td>\n",
       "      <td>Salsa legend Gilberto Santa Rosa takes us on a...</td>\n",
       "    </tr>\n",
       "    <tr>\n",
       "      <th>...</th>\n",
       "      <td>...</td>\n",
       "      <td>...</td>\n",
       "      <td>...</td>\n",
       "      <td>...</td>\n",
       "      <td>...</td>\n",
       "      <td>...</td>\n",
       "      <td>...</td>\n",
       "      <td>...</td>\n",
       "      <td>...</td>\n",
       "      <td>...</td>\n",
       "      <td>...</td>\n",
       "      <td>...</td>\n",
       "    </tr>\n",
       "    <tr>\n",
       "      <th>2504</th>\n",
       "      <td>s2505</td>\n",
       "      <td>Movie</td>\n",
       "      <td>Tiny Shoulders: Rethinking Barbie</td>\n",
       "      <td>NaN</td>\n",
       "      <td>NaN</td>\n",
       "      <td>United States</td>\n",
       "      <td>April 27, 2018</td>\n",
       "      <td>2018</td>\n",
       "      <td>TV-14</td>\n",
       "      <td>93 min</td>\n",
       "      <td>Documentaries</td>\n",
       "      <td>In her 59 years, Barbie has become a fashion i...</td>\n",
       "    </tr>\n",
       "    <tr>\n",
       "      <th>2506</th>\n",
       "      <td>s2507</td>\n",
       "      <td>Movie</td>\n",
       "      <td>Mom and Dad</td>\n",
       "      <td>NaN</td>\n",
       "      <td>NaN</td>\n",
       "      <td>NaN</td>\n",
       "      <td>April 19, 2018</td>\n",
       "      <td>2018</td>\n",
       "      <td>R</td>\n",
       "      <td>83 min</td>\n",
       "      <td>Horror, Thriller</td>\n",
       "      <td>A teenage girl and her little brother try to s...</td>\n",
       "    </tr>\n",
       "    <tr>\n",
       "      <th>2522</th>\n",
       "      <td>s2523</td>\n",
       "      <td>Movie</td>\n",
       "      <td>March of the Penguins 2: The Next Step</td>\n",
       "      <td>NaN</td>\n",
       "      <td>NaN</td>\n",
       "      <td>NaN</td>\n",
       "      <td>March 23, 2018</td>\n",
       "      <td>2018</td>\n",
       "      <td>NaN</td>\n",
       "      <td>76 min</td>\n",
       "      <td>Documentaries</td>\n",
       "      <td>Filmmaker Luc Jacquet returns to the Antarctic...</td>\n",
       "    </tr>\n",
       "    <tr>\n",
       "      <th>2537</th>\n",
       "      <td>s2538</td>\n",
       "      <td>Movie</td>\n",
       "      <td>Indy 500</td>\n",
       "      <td>NaN</td>\n",
       "      <td>NaN</td>\n",
       "      <td>NaN</td>\n",
       "      <td>March 2, 2018</td>\n",
       "      <td>2018</td>\n",
       "      <td>TV-G</td>\n",
       "      <td>NaN</td>\n",
       "      <td>Sports</td>\n",
       "      <td>Indianapolis 500 On Demand: Relive all of the ...</td>\n",
       "    </tr>\n",
       "    <tr>\n",
       "      <th>2539</th>\n",
       "      <td>s2540</td>\n",
       "      <td>Movie</td>\n",
       "      <td>Classic Boxing</td>\n",
       "      <td>NaN</td>\n",
       "      <td>NaN</td>\n",
       "      <td>NaN</td>\n",
       "      <td>February 28, 2018</td>\n",
       "      <td>2018</td>\n",
       "      <td>TV-PG</td>\n",
       "      <td>NaN</td>\n",
       "      <td>Sports</td>\n",
       "      <td>Sit ringside for hundreds of the most legendar...</td>\n",
       "    </tr>\n",
       "  </tbody>\n",
       "</table>\n",
       "<p>157 rows × 12 columns</p>\n",
       "</div>"
      ],
      "text/plain": [
       "     show_id   type                                   title director  cast  \\\n",
       "57       s58  Movie          BELLATOR MMA: Davis vs. Nemkov      NaN   NaN   \n",
       "184     s185  Movie                        This World Alone      NaN   NaN   \n",
       "211     s212  Movie                         On Chesil Beach      NaN   NaN   \n",
       "214     s215  Movie                          All About Nina      NaN   NaN   \n",
       "217     s218  Movie      Gilberto Santa Rosa, 40…y Contando      NaN   NaN   \n",
       "...      ...    ...                                     ...      ...   ...   \n",
       "2504   s2505  Movie       Tiny Shoulders: Rethinking Barbie      NaN   NaN   \n",
       "2506   s2507  Movie                             Mom and Dad      NaN   NaN   \n",
       "2522   s2523  Movie  March of the Penguins 2: The Next Step      NaN   NaN   \n",
       "2537   s2538  Movie                                Indy 500      NaN   NaN   \n",
       "2539   s2540  Movie                          Classic Boxing      NaN   NaN   \n",
       "\n",
       "            country          date_added  release_year rating duration  \\\n",
       "57              NaN     October 6, 2021          2018    NaN      NaN   \n",
       "184             NaN  September 24, 2021          2018    NaN   90 min   \n",
       "211             NaN  September 16, 2021          2018      R  110 min   \n",
       "214             NaN  September 15, 2021          2018      R  101 min   \n",
       "217             NaN  September 15, 2021          2018  TV-PG      NaN   \n",
       "...             ...                 ...           ...    ...      ...   \n",
       "2504  United States      April 27, 2018          2018  TV-14   93 min   \n",
       "2506            NaN      April 19, 2018          2018      R   83 min   \n",
       "2522            NaN      March 23, 2018          2018    NaN   76 min   \n",
       "2537            NaN       March 2, 2018          2018   TV-G      NaN   \n",
       "2539            NaN   February 28, 2018          2018  TV-PG      NaN   \n",
       "\n",
       "                                       listed_in  \\\n",
       "57                                        Sports   \n",
       "184                       Drama, Science Fiction   \n",
       "211   Cooking & Food, Drama, Lifestyle & Culture   \n",
       "214                                Comedy, Drama   \n",
       "217                 Documentaries, Latino, Music   \n",
       "...                                          ...   \n",
       "2504                               Documentaries   \n",
       "2506                            Horror, Thriller   \n",
       "2522                               Documentaries   \n",
       "2537                                      Sports   \n",
       "2539                                      Sports   \n",
       "\n",
       "                                            description  \n",
       "57    Former BELLATOR MMA champion Phil Davis faces ...  \n",
       "184   After a cataclysmic event leaves the Earth wit...  \n",
       "211   In 1962, newlyweds Edward and Florence, both i...  \n",
       "214   Just as Nina Geld’s (Mary Elizabeth Winstead) ...  \n",
       "217   Salsa legend Gilberto Santa Rosa takes us on a...  \n",
       "...                                                 ...  \n",
       "2504  In her 59 years, Barbie has become a fashion i...  \n",
       "2506  A teenage girl and her little brother try to s...  \n",
       "2522  Filmmaker Luc Jacquet returns to the Antarctic...  \n",
       "2537  Indianapolis 500 On Demand: Relive all of the ...  \n",
       "2539  Sit ringside for hundreds of the most legendar...  \n",
       "\n",
       "[157 rows x 12 columns]"
      ]
     },
     "execution_count": 94,
     "metadata": {},
     "output_type": "execute_result"
    }
   ],
   "source": [
    "df_hulu[(df_hulu.release_year == 2018) & (df_hulu.type == \"Movie\")]"
   ]
  },
  {
   "cell_type": "code",
   "execution_count": 95,
   "metadata": {},
   "outputs": [
    {
     "data": {
      "text/html": [
       "<div>\n",
       "<style scoped>\n",
       "    .dataframe tbody tr th:only-of-type {\n",
       "        vertical-align: middle;\n",
       "    }\n",
       "\n",
       "    .dataframe tbody tr th {\n",
       "        vertical-align: top;\n",
       "    }\n",
       "\n",
       "    .dataframe thead th {\n",
       "        text-align: right;\n",
       "    }\n",
       "</style>\n",
       "<table border=\"1\" class=\"dataframe\">\n",
       "  <thead>\n",
       "    <tr style=\"text-align: right;\">\n",
       "      <th></th>\n",
       "      <th>show_id</th>\n",
       "      <th>type</th>\n",
       "      <th>title</th>\n",
       "      <th>director</th>\n",
       "      <th>cast</th>\n",
       "      <th>country</th>\n",
       "      <th>date_added</th>\n",
       "      <th>release_year</th>\n",
       "      <th>rating</th>\n",
       "      <th>duration</th>\n",
       "      <th>listed_in</th>\n",
       "      <th>description</th>\n",
       "    </tr>\n",
       "  </thead>\n",
       "  <tbody>\n",
       "    <tr>\n",
       "      <th>1542</th>\n",
       "      <td>s1543</td>\n",
       "      <td>Movie</td>\n",
       "      <td>The House That Jack Built</td>\n",
       "      <td>NaN</td>\n",
       "      <td>NaN</td>\n",
       "      <td>Denmark, France, Sweden, Germany, Belgium, Tun...</td>\n",
       "      <td>July 2, 2020</td>\n",
       "      <td>2018</td>\n",
       "      <td>R</td>\n",
       "      <td>151 min</td>\n",
       "      <td>Crime, Drama, Horror</td>\n",
       "      <td>Jack is a serial killer who views each murder ...</td>\n",
       "    </tr>\n",
       "  </tbody>\n",
       "</table>\n",
       "</div>"
      ],
      "text/plain": [
       "     show_id   type                      title director  cast  \\\n",
       "1542   s1543  Movie  The House That Jack Built      NaN   NaN   \n",
       "\n",
       "                                                country    date_added  \\\n",
       "1542  Denmark, France, Sweden, Germany, Belgium, Tun...  July 2, 2020   \n",
       "\n",
       "      release_year rating duration             listed_in  \\\n",
       "1542          2018      R  151 min  Crime, Drama, Horror   \n",
       "\n",
       "                                            description  \n",
       "1542  Jack is a serial killer who views each murder ...  "
      ]
     },
     "execution_count": 95,
     "metadata": {},
     "output_type": "execute_result"
    }
   ],
   "source": [
    "df_hulu[(df_hulu.title.str.lower() == 'the house that jack built')]"
   ]
  },
  {
   "cell_type": "code",
   "execution_count": 174,
   "metadata": {},
   "outputs": [],
   "source": [
    "df_gender_title = pd.read_csv('./Datasets/plataform_title_gender.csv')"
   ]
  },
  {
   "cell_type": "code",
   "execution_count": 176,
   "metadata": {},
   "outputs": [
    {
     "name": "stdout",
     "output_type": "stream",
     "text": [
      "{'plataform': 'amazon', 'count': 2099}\n"
     ]
    }
   ],
   "source": [
    "gender = 'comedy'\n",
    "df_1 = df_gender_title[( df_gender_title['gender'].str.lower() == gender.lower() )].groupby(['plataform']).count().sort_values(by=['gender'], ascending=False)\n",
    "if df_1.shape[0] > 0:\n",
    "    retorno = { \n",
    "        'plataform': df_1.index[0],\n",
    "        'count': df_1.values[0][0]\n",
    "        }\n",
    "else:\n",
    "    retorno = { \n",
    "       'plataform': 'Data not found',\n",
    "       'count': 'n/a'\n",
    "    }\n",
    "\n",
    "print(retorno)"
   ]
  },
  {
   "cell_type": "code",
   "execution_count": 3,
   "metadata": {},
   "outputs": [],
   "source": [
    "df_gender_title = pd.read_csv('./Datasets/plataform_title_gender.csv')\n"
   ]
  },
  {
   "cell_type": "code",
   "execution_count": 8,
   "metadata": {},
   "outputs": [
    {
     "data": {
      "text/plain": [
       "amazon    2099\n",
       "hulu       667\n",
       "disney     526\n",
       "Name: plataform, dtype: int64"
      ]
     },
     "execution_count": 8,
     "metadata": {},
     "output_type": "execute_result"
    }
   ],
   "source": [
    "genero = 'comedy'    \n",
    "#df_1 = df_gender_title[( df_gender_title['gender'].str.lower() == genero.lower() )].groupby(['plataform']).count().sort_values('gender', ascending=False)\n",
    "df_gender_title[( df_gender_title['gender'].str.lower() == genero.lower() )].plataform.value_counts(sort=True, ascending=False)\n"
   ]
  },
  {
   "cell_type": "code",
   "execution_count": 5,
   "metadata": {},
   "outputs": [
    {
     "data": {
      "text/html": [
       "<div>\n",
       "<style scoped>\n",
       "    .dataframe tbody tr th:only-of-type {\n",
       "        vertical-align: middle;\n",
       "    }\n",
       "\n",
       "    .dataframe tbody tr th {\n",
       "        vertical-align: top;\n",
       "    }\n",
       "\n",
       "    .dataframe thead th {\n",
       "        text-align: right;\n",
       "    }\n",
       "</style>\n",
       "<table border=\"1\" class=\"dataframe\">\n",
       "  <thead>\n",
       "    <tr style=\"text-align: right;\">\n",
       "      <th></th>\n",
       "      <th>Unnamed: 0</th>\n",
       "      <th>title</th>\n",
       "      <th>gender</th>\n",
       "    </tr>\n",
       "    <tr>\n",
       "      <th>plataform</th>\n",
       "      <th></th>\n",
       "      <th></th>\n",
       "      <th></th>\n",
       "    </tr>\n",
       "  </thead>\n",
       "  <tbody>\n",
       "    <tr>\n",
       "      <th>amazon</th>\n",
       "      <td>2099</td>\n",
       "      <td>2099</td>\n",
       "      <td>2099</td>\n",
       "    </tr>\n",
       "    <tr>\n",
       "      <th>hulu</th>\n",
       "      <td>667</td>\n",
       "      <td>667</td>\n",
       "      <td>667</td>\n",
       "    </tr>\n",
       "    <tr>\n",
       "      <th>disney</th>\n",
       "      <td>526</td>\n",
       "      <td>526</td>\n",
       "      <td>526</td>\n",
       "    </tr>\n",
       "  </tbody>\n",
       "</table>\n",
       "</div>"
      ],
      "text/plain": [
       "           Unnamed: 0  title  gender\n",
       "plataform                           \n",
       "amazon           2099   2099    2099\n",
       "hulu              667    667     667\n",
       "disney            526    526     526"
      ]
     },
     "execution_count": 5,
     "metadata": {},
     "output_type": "execute_result"
    }
   ],
   "source": [
    "df_1"
   ]
  },
  {
   "cell_type": "code",
   "execution_count": 228,
   "metadata": {},
   "outputs": [],
   "source": [
    "df_1 = df_gender_title[( df_gender_title['gender'].str.lower() == genero.lower() )].plataform.value_counts().sort_values(ascending=False) #groupby(['plataform']).count().sort_values('gender', ascending=False)"
   ]
  },
  {
   "cell_type": "code",
   "execution_count": 250,
   "metadata": {},
   "outputs": [
    {
     "data": {
      "text/plain": [
       "2099"
      ]
     },
     "execution_count": 250,
     "metadata": {},
     "output_type": "execute_result"
    }
   ],
   "source": [
    "df_1.iloc[0]"
   ]
  },
  {
   "cell_type": "code",
   "execution_count": 239,
   "metadata": {},
   "outputs": [
    {
     "data": {
      "text/plain": [
       "2099"
      ]
     },
     "execution_count": 239,
     "metadata": {},
     "output_type": "execute_result"
    }
   ],
   "source": [
    "df_1.values[0]"
   ]
  },
  {
   "cell_type": "code",
   "execution_count": 251,
   "metadata": {},
   "outputs": [],
   "source": [
    "df_2 = df_1.to_dict()"
   ]
  },
  {
   "cell_type": "code",
   "execution_count": 252,
   "metadata": {},
   "outputs": [
    {
     "data": {
      "text/plain": [
       "{'amazon': 2099, 'hulu': 667, 'disney': 526}"
      ]
     },
     "execution_count": 252,
     "metadata": {},
     "output_type": "execute_result"
    }
   ],
   "source": [
    "df_2"
   ]
  },
  {
   "cell_type": "code",
   "execution_count": 253,
   "metadata": {},
   "outputs": [
    {
     "data": {
      "text/plain": [
       "2099"
      ]
     },
     "execution_count": 253,
     "metadata": {},
     "output_type": "execute_result"
    }
   ],
   "source": [
    "df_2[df_1.index[0]]"
   ]
  },
  {
   "cell_type": "code",
   "execution_count": 270,
   "metadata": {},
   "outputs": [],
   "source": [
    "plataform = 'netflix'\n",
    "year = 2018\n",
    "df_2 = df_cast_title_1[(df_cast_title_1.plataform == plataform) & (df_cast_title_1.year == year)].groupby(['cast']).count().sort_values(by=['title'],ascending=False)"
   ]
  },
  {
   "cell_type": "code",
   "execution_count": 272,
   "metadata": {},
   "outputs": [
    {
     "name": "stdout",
     "output_type": "stream",
     "text": [
      "<class 'pandas.core.frame.DataFrame'>\n",
      "Index: 6678 entries, Andrea Libman to Şahin Irmak\n",
      "Data columns (total 3 columns):\n",
      " #   Column     Non-Null Count  Dtype\n",
      "---  ------     --------------  -----\n",
      " 0   plataform  6678 non-null   int64\n",
      " 1   title      6678 non-null   int64\n",
      " 2   year       6678 non-null   int64\n",
      "dtypes: int64(3)\n",
      "memory usage: 208.7+ KB\n"
     ]
    }
   ],
   "source": [
    "df_2.info()"
   ]
  },
  {
   "cell_type": "code",
   "execution_count": 275,
   "metadata": {},
   "outputs": [
    {
     "data": {
      "text/html": [
       "<div>\n",
       "<style scoped>\n",
       "    .dataframe tbody tr th:only-of-type {\n",
       "        vertical-align: middle;\n",
       "    }\n",
       "\n",
       "    .dataframe tbody tr th {\n",
       "        vertical-align: top;\n",
       "    }\n",
       "\n",
       "    .dataframe thead th {\n",
       "        text-align: right;\n",
       "    }\n",
       "</style>\n",
       "<table border=\"1\" class=\"dataframe\">\n",
       "  <thead>\n",
       "    <tr style=\"text-align: right;\">\n",
       "      <th></th>\n",
       "      <th>plataform</th>\n",
       "      <th>title</th>\n",
       "      <th>year</th>\n",
       "    </tr>\n",
       "    <tr>\n",
       "      <th>cast</th>\n",
       "      <th></th>\n",
       "      <th></th>\n",
       "      <th></th>\n",
       "    </tr>\n",
       "  </thead>\n",
       "  <tbody>\n",
       "    <tr>\n",
       "      <th>Andrea Libman</th>\n",
       "      <td>8</td>\n",
       "      <td>8</td>\n",
       "      <td>8</td>\n",
       "    </tr>\n",
       "  </tbody>\n",
       "</table>\n",
       "</div>"
      ],
      "text/plain": [
       "               plataform  title  year\n",
       "cast                                 \n",
       "Andrea Libman          8      8     8"
      ]
     },
     "execution_count": 275,
     "metadata": {},
     "output_type": "execute_result"
    }
   ],
   "source": [
    "df_2.head(1)"
   ]
  },
  {
   "cell_type": "code",
   "execution_count": 278,
   "metadata": {},
   "outputs": [
    {
     "data": {
      "text/plain": [
       "'Andrea Libman'"
      ]
     },
     "execution_count": 278,
     "metadata": {},
     "output_type": "execute_result"
    }
   ],
   "source": [
    "df_2.head(1).index[0]"
   ]
  },
  {
   "cell_type": "code",
   "execution_count": 281,
   "metadata": {},
   "outputs": [
    {
     "data": {
      "text/plain": [
       "8"
      ]
     },
     "execution_count": 281,
     "metadata": {},
     "output_type": "execute_result"
    }
   ],
   "source": [
    "df_2.iloc[0].values[0]"
   ]
  },
  {
   "cell_type": "code",
   "execution_count": 289,
   "metadata": {},
   "outputs": [
    {
     "data": {
      "text/plain": [
       "8"
      ]
     },
     "execution_count": 289,
     "metadata": {},
     "output_type": "execute_result"
    }
   ],
   "source": [
    "df_2.head(1)['year'].to_dict()[df_2.head(1).index[0]]"
   ]
  },
  {
   "cell_type": "code",
   "execution_count": 9,
   "metadata": {},
   "outputs": [],
   "source": [
    "df_titles = pd.read_csv('./Datasets/titles_todos.csv')"
   ]
  },
  {
   "cell_type": "code",
   "execution_count": 16,
   "metadata": {},
   "outputs": [],
   "source": [
    "plataform = 'netflix'\n",
    "#df_titles[(df_titles.plataform == plataform.lower() )].groupby(['type'])['type'].count()\n",
    "dic_count = df_titles[(df_titles.plataform == plataform.lower() )].type.value_counts().to_dict()"
   ]
  },
  {
   "cell_type": "code",
   "execution_count": 19,
   "metadata": {},
   "outputs": [
    {
     "data": {
      "text/plain": [
       "{'Movie': 6131, 'TV Show': 2676}"
      ]
     },
     "execution_count": 19,
     "metadata": {},
     "output_type": "execute_result"
    }
   ],
   "source": [
    "dic_count"
   ]
  },
  {
   "cell_type": "code",
   "execution_count": 24,
   "metadata": {},
   "outputs": [],
   "source": [
    "dic_retorno = {'plataform': plataform }"
   ]
  },
  {
   "cell_type": "code",
   "execution_count": 22,
   "metadata": {},
   "outputs": [],
   "source": [
    "dic_retorno.update(dic_count)"
   ]
  },
  {
   "cell_type": "code",
   "execution_count": 23,
   "metadata": {},
   "outputs": [
    {
     "data": {
      "text/plain": [
       "{'plataform': 'netflix', 'Movie': 6131, 'TV Show': 2676}"
      ]
     },
     "execution_count": 23,
     "metadata": {},
     "output_type": "execute_result"
    }
   ],
   "source": [
    "dic_retorno"
   ]
  }
 ],
 "metadata": {
  "kernelspec": {
   "display_name": "Python 3.8.5 64-bit",
   "language": "python",
   "name": "python3"
  },
  "language_info": {
   "codemirror_mode": {
    "name": "ipython",
    "version": 3
   },
   "file_extension": ".py",
   "mimetype": "text/x-python",
   "name": "python",
   "nbconvert_exporter": "python",
   "pygments_lexer": "ipython3",
   "version": "3.8.5"
  },
  "orig_nbformat": 4,
  "vscode": {
   "interpreter": {
    "hash": "aadc960e2afc7ca7a2a72b871e11feb463c930330201b6369ec91ea194824c2e"
   }
  }
 },
 "nbformat": 4,
 "nbformat_minor": 2
}
